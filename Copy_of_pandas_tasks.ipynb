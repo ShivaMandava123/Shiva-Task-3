{
  "cells": [
    {
      "cell_type": "markdown",
      "metadata": {
        "id": "view-in-github",
        "colab_type": "text"
      },
      "source": [
        "<a href=\"https://colab.research.google.com/github/ShivaMandava123/Shiva-Task-3/blob/main/Copy_of_pandas_tasks.ipynb\" target=\"_parent\"><img src=\"https://colab.research.google.com/assets/colab-badge.svg\" alt=\"Open In Colab\"/></a>"
      ]
    },
    {
      "cell_type": "markdown",
      "metadata": {
        "id": "UE4YhiIsYs2D"
      },
      "source": [
        "# pandas \n"
      ]
    },
    {
      "cell_type": "markdown",
      "metadata": {
        "id": "Z7cRBqGBYs2H"
      },
      "source": [
        "## Importing pandas\n",
        "\n",
        "### Getting started and checking your pandas setup\n",
        "\n",
        "Difficulty: *easy* \n",
        "\n",
        "**1.** Import pandas under the name `pd`."
      ]
    },
    {
      "cell_type": "code",
      "execution_count": null,
      "metadata": {
        "collapsed": true,
        "id": "UL_gaBQzYs2I",
        "outputId": "8c0c1dba-d531-4327-c032-db4121dc051e",
        "colab": {
          "base_uri": "https://localhost:8080/"
        }
      },
      "outputs": [
        {
          "output_type": "execute_result",
          "data": {
            "text/plain": [
              "{'points': [25, 12, 15, 14, 19, 23, 25, 29],\n",
              " 'assists': [5, 7, 7, 9, 12, 9, 9, 4],\n",
              " 'rebounds': [11, 8, 10, 6, 6, 5, 9, 12]}"
            ]
          },
          "metadata": {},
          "execution_count": 2
        }
      ],
      "source": [
        "({'points': [25, 12, 15, 14, 19, 23, 25, 29],\n",
        "                   'assists': [5, 7, 7, 9, 12, 9, 9, 4],\n",
        "                   'rebounds': [11, 8, 10, 6, 6, 5, 9, 12]})\n"
      ]
    },
    {
      "cell_type": "markdown",
      "metadata": {
        "id": "EnVImMQKYs2I"
      },
      "source": [
        "**2.** Print the version of pandas that has been imported."
      ]
    },
    {
      "cell_type": "code",
      "execution_count": null,
      "metadata": {
        "collapsed": true,
        "id": "5Jro-M7pYs2I",
        "outputId": "3ed6c4e0-b1c2-4099-d962-c992926777d2",
        "colab": {
          "base_uri": "https://localhost:8080/"
        }
      },
      "outputs": [
        {
          "output_type": "stream",
          "name": "stdout",
          "text": [
            "1.3.5\n"
          ]
        }
      ],
      "source": [
        "{\n",
        "  \"cells\": [\n",
        "    {\n",
        "      \"cell_type\": \"markdown\",\n",
        "      \"metadata\": {\n",
        "        \"id\": \"view-in-github\",\n",
        "        \"colab_type\": \"text\"\n",
        "      },\n",
        "      \"source\": [\n",
        "        \"<a href=\\\"https://colab.research.google.com/github/ShivaMandava123/Shiva-Mandava-Task-1/blob/main/Copy_of_Copy_of_pandas_tasks.ipynb\\\" target=\\\"_parent\\\"><img src=\\\"https://colab.research.google.com/assets/colab-badge.svg\\\" alt=\\\"Open In Colab\\\"/></a>\"\n",
        "      ]\n",
        "    },\n",
        "    {\n",
        "      \"cell_type\": \"markdown\",\n",
        "      \"metadata\": {\n",
        "        \"id\": \"UE4YhiIsYs2D\"\n",
        "      },\n",
        "      \"source\": [\n",
        "        \"# pandas \\n\"\n",
        "      ]\n",
        "    },\n",
        "    {\n",
        "      \"cell_type\": \"markdown\",\n",
        "      \"metadata\": {\n",
        "        \"id\": \"Z7cRBqGBYs2H\"\n",
        "      },\n",
        "      \"source\": [\n",
        "        \"## Importing pandas\\n\",\n",
        "        \"\\n\",\n",
        "        \"### Getting started and checking your pandas setup\\n\",\n",
        "        \"\\n\",\n",
        "        \"Difficulty: *easy* \\n\",\n",
        "        \"\\n\",\n",
        "        \"**1.** Import pandas under the name `pd`.\"\n",
        "      ]\n",
        "    },\n",
        "    {\n",
        "      \"cell_type\": \"code\",\n",
        "      \"execution_count\": null,\n",
        "      \"metadata\": {\n",
        "        \"collapsed\": true,\n",
        "        \"id\": \"UL_gaBQzYs2I\",\n",
        "        \"outputId\": \"8c0c1dba-d531-4327-c032-db4121dc051e\",\n",
        "        \"colab\": {\n",
        "          \"base_uri\": \"https://localhost:8080/\"\n",
        "        }\n",
        "      },\n",
        "      \"outputs\": [\n",
        "        {\n",
        "          \"output_type\": \"execute_result\",\n",
        "          \"data\": {\n",
        "            \"text/plain\": [\n",
        "              \"{'points': [25, 12, 15, 14, 19, 23, 25, 29],\\n\",\n",
        "              \" 'assists': [5, 7, 7, 9, 12, 9, 9, 4],\\n\",\n",
        "              \" 'rebounds': [11, 8, 10, 6, 6, 5, 9, 12]}\"\n",
        "            ]\n",
        "          },\n",
        "          \"metadata\": {},\n",
        "          \"execution_count\": 2\n",
        "        }\n",
        "      ],\n",
        "      \"source\": [\n",
        "        \"({'points': [25, 12, 15, 14, 19, 23, 25, 29],\\n\",\n",
        "        \"                   'assists': [5, 7, 7, 9, 12, 9, 9, 4],\\n\",\n",
        "        \"                   'rebounds': [11, 8, 10, 6, 6, 5, 9, 12]})\\n\"\n",
        "      ]\n",
        "    },\n",
        "    {\n",
        "      \"cell_type\": \"markdown\",\n",
        "      \"metadata\": {\n",
        "        \"id\": \"EnVImMQKYs2I\"\n",
        "      },\n",
        "      \"source\": [\n",
        "        \"**2.** Print the version of pandas that has been imported.\"\n",
        "      ]\n",
        "    },\n",
        "    {\n",
        "      \"cell_type\": \"code\",\n",
        "      \"execution_count\": null,\n",
        "      \"metadata\": {\n",
        "        \"collapsed\": true,\n",
        "        \"id\": \"5Jro-M7pYs2I\",\n",
        "        \"outputId\": \"3ed6c4e0-b1c2-4099-d962-c992926777d2\",\n",
        "        \"colab\": {\n",
        "          \"base_uri\": \"https://localhost:8080/\"\n",
        "        }\n",
        "      },\n",
        "      \"outputs\": [\n",
        "        {\n",
        "          \"output_type\": \"stream\",\n",
        "          \"name\": \"stdout\",\n",
        "          \"text\": [\n",
        "            \"1.3.5\\n\"\n",
        "          ]\n",
        "        }\n",
        "      ],\n",
        "      \"source\": [\n",
        "        \"import pandas as pd\\n\",\n",
        "        \"print(pd.__version__)\"\n",
        "      ]\n",
        "    },\n",
        "    {\n",
        "      \"cell_type\": \"markdown\",\n",
        "      \"metadata\": {\n",
        "        \"id\": \"blX8NTaSYs2J\"\n",
        "      },\n",
        "      \"source\": [\n",
        "        \"**3.** Print out all the version information of the libraries that are required by the pandas library.\"\n",
        "      ]\n",
        "    },\n",
        "    {\n",
        "      \"cell_type\": \"code\",\n",
        "      \"execution_count\": null,\n",
        "      \"metadata\": {\n",
        "        \"collapsed\": true,\n",
        "        \"id\": \"uhYhMfM6Ys2J\"\n",
        "      },\n",
        "      \"outputs\": [],\n",
        "      \"source\": [\n",
        "        \"import numpy as np\"\n",
        "      ]\n",
        "    },\n",
        "    {\n",
        "      \"cell_type\": \"markdown\",\n",
        "      \"metadata\": {\n",
        "        \"id\": \"rkZdbNpZYs2J\"\n",
        "      },\n",
        "      \"source\": [\n",
        "        \"## DataFrame basics\\n\",\n",
        "        \"\\n\",\n",
        "        \"### A few of the fundamental routines for selecting, sorting, adding and aggregating data in DataFrames\\n\",\n",
        "        \"\\n\",\n",
        "        \"Difficulty: *easy*\\n\",\n",
        "        \"\\n\",\n",
        "        \"Note: remember to import numpy using:\\n\",\n",
        "        \"```python\\n\",\n",
        "        \"import numpy as np\\n\",\n",
        "        \"```\\n\",\n",
        "        \"\\n\",\n",
        "        \"Consider the following Python dictionary `data` and Python list `labels`:\\n\",\n",
        "        \"\\n\",\n",
        "        \"``` python\\n\",\n",
        "        \"data = {'animal': ['cat', 'cat', 'snake', 'dog', 'dog', 'cat', 'snake', 'cat', 'dog', 'dog'],\\n\",\n",
        "        \"        'age': [2.5, 3, 0.5, np.nan, 5, 2, 4.5, np.nan, 7, 3],\\n\",\n",
        "        \"        'visits': [1, 3, 2, 3, 2, 3, 1, 1, 2, 1],\\n\",\n",
        "        \"        'priority': ['yes', 'yes', 'no', 'yes', 'no', 'no', 'no', 'yes', 'no', 'no']}\\n\",\n",
        "        \"\\n\",\n",
        "        \"labels = ['a', 'b', 'c', 'd', 'e', 'f', 'g', 'h', 'i', 'j']\\n\",\n",
        "        \"```\\n\",\n",
        "        \"(This is just some meaningless data I made up with the theme of animals and trips to a vet.)\\n\",\n",
        "        \"\\n\",\n",
        "        \"**4.** Create a DataFrame `df` from this dictionary `data` which has the index `labels`.\"\n",
        "      ]\n",
        "    },\n",
        "    {\n",
        "      \"cell_type\": \"code\",\n",
        "      \"execution_count\": null,\n",
        "      \"metadata\": {\n",
        "        \"collapsed\": true,\n",
        "        \"id\": \"ABe6ufJ2Ys2K\",\n",
        "        \"outputId\": \"5363a426-00da-447a-b5c4-c9f2b4e06a61\",\n",
        "        \"colab\": {\n",
        "          \"base_uri\": \"https://localhost:8080/\"\n",
        "        }\n",
        "      },\n",
        "      \"outputs\": [\n",
        "        {\n",
        "          \"output_type\": \"stream\",\n",
        "          \"name\": \"stdout\",\n",
        "          \"text\": [\n",
        "            \"1\\n\"\n",
        "          ]\n",
        "        }\n",
        "      ],\n",
        "      \"source\": [\n",
        "        \"numbers = [2, 4, 6, 8, 1]\\n\",\n",
        "        \"\\n\",\n",
        "        \"for number in numbers:\\n\",\n",
        "        \"    if number % 2 == 1:\\n\",\n",
        "        \"        print(number)\\n\",\n",
        "        \"        break\\n\",\n",
        "        \"else:\\n\",\n",
        "        \"    print(\\\"No odd numbers\\\")\"\n",
        "      ]\n",
        "    },\n",
        "    {\n",
        "      \"cell_type\": \"markdown\",\n",
        "      \"metadata\": {\n",
        "        \"id\": \"imtuYOa5Ys2K\"\n",
        "      },\n",
        "      \"source\": [\n",
        "        \"**5.** Display a summary of the basic information about this DataFrame and its data.\"\n",
        "      ]\n",
        "    },\n",
        "    {\n",
        "      \"cell_type\": \"code\",\n",
        "      \"execution_count\": null,\n",
        "      \"metadata\": {\n",
        "        \"collapsed\": true,\n",
        "        \"id\": \"FKTf8I2PYs2K\"\n",
        "      },\n",
        "      \"outputs\": [],\n",
        "      \"source\": [\n",
        "        \"import pandas as pd\\n\",\n",
        "        \"import numpy as np\"\n",
        "      ]\n",
        "    },\n",
        "    {\n",
        "      \"cell_type\": \"markdown\",\n",
        "      \"metadata\": {\n",
        "        \"id\": \"HtnaDWRzYs2K\"\n",
        "      },\n",
        "      \"source\": [\n",
        "        \"**6.** Return the first 3 rows of the DataFrame `df`.\"\n",
        "      ]\n",
        "    },\n",
        "    {\n",
        "      \"cell_type\": \"code\",\n",
        "      \"execution_count\": null,\n",
        "      \"metadata\": {\n",
        "        \"collapsed\": true,\n",
        "        \"id\": \"5ZOtYbzRYs2L\",\n",
        "        \"outputId\": \"1ec19589-d4e3-4323-eee2-2454b1f1c0a9\",\n",
        "        \"colab\": {\n",
        "          \"base_uri\": \"https://localhost:8080/\",\n",
        "          \"height\": 300\n",
        "        }\n",
        "      },\n",
        "      \"outputs\": [\n",
        "        {\n",
        "          \"output_type\": \"execute_result\",\n",
        "          \"data\": {\n",
        "            \"text/plain\": [\n",
        "              \"     Name  Marks Status\\n\",\n",
        "              \"0     Tom      9   Fail\\n\",\n",
        "              \"1    Jack     19   Pass\\n\",\n",
        "              \"2    Lucy     20   Pass\\n\",\n",
        "              \"3     Bob     17   Pass\\n\",\n",
        "              \"4   Jerry     11   Pass\\n\",\n",
        "              \"5   Alice     18   Pass\\n\",\n",
        "              \"6  Thomas      5   Fail\\n\",\n",
        "              \"7  Barbie      8   Fail\"\n",
        "            ],\n",
        "            \"text/html\": [\n",
        "              \"\\n\",\n",
        "              \"  <div id=\\\"df-f78e37a7-a1d0-4485-8e7f-f0e6233ab8f3\\\">\\n\",\n",
        "              \"    <div class=\\\"colab-df-container\\\">\\n\",\n",
        "              \"      <div>\\n\",\n",
        "              \"<style scoped>\\n\",\n",
        "              \"    .dataframe tbody tr th:only-of-type {\\n\",\n",
        "              \"        vertical-align: middle;\\n\",\n",
        "              \"    }\\n\",\n",
        "              \"\\n\",\n",
        "              \"    .dataframe tbody tr th {\\n\",\n",
        "              \"        vertical-align: top;\\n\",\n",
        "              \"    }\\n\",\n",
        "              \"\\n\",\n",
        "              \"    .dataframe thead th {\\n\",\n",
        "              \"        text-align: right;\\n\",\n",
        "              \"    }\\n\",\n",
        "              \"</style>\\n\",\n",
        "              \"<table border=\\\"1\\\" class=\\\"dataframe\\\">\\n\",\n",
        "              \"  <thead>\\n\",\n",
        "              \"    <tr style=\\\"text-align: right;\\\">\\n\",\n",
        "              \"      <th></th>\\n\",\n",
        "              \"      <th>Name</th>\\n\",\n",
        "              \"      <th>Marks</th>\\n\",\n",
        "              \"      <th>Status</th>\\n\",\n",
        "              \"    </tr>\\n\",\n",
        "              \"  </thead>\\n\",\n",
        "              \"  <tbody>\\n\",\n",
        "              \"    <tr>\\n\",\n",
        "              \"      <th>0</th>\\n\",\n",
        "              \"      <td>Tom</td>\\n\",\n",
        "              \"      <td>9</td>\\n\",\n",
        "              \"      <td>Fail</td>\\n\",\n",
        "              \"    </tr>\\n\",\n",
        "              \"    <tr>\\n\",\n",
        "              \"      <th>1</th>\\n\",\n",
        "              \"      <td>Jack</td>\\n\",\n",
        "              \"      <td>19</td>\\n\",\n",
        "              \"      <td>Pass</td>\\n\",\n",
        "              \"    </tr>\\n\",\n",
        "              \"    <tr>\\n\",\n",
        "              \"      <th>2</th>\\n\",\n",
        "              \"      <td>Lucy</td>\\n\",\n",
        "              \"      <td>20</td>\\n\",\n",
        "              \"      <td>Pass</td>\\n\",\n",
        "              \"    </tr>\\n\",\n",
        "              \"    <tr>\\n\",\n",
        "              \"      <th>3</th>\\n\",\n",
        "              \"      <td>Bob</td>\\n\",\n",
        "              \"      <td>17</td>\\n\",\n",
        "              \"      <td>Pass</td>\\n\",\n",
        "              \"    </tr>\\n\",\n",
        "              \"    <tr>\\n\",\n",
        "              \"      <th>4</th>\\n\",\n",
        "              \"      <td>Jerry</td>\\n\",\n",
        "              \"      <td>11</td>\\n\",\n",
        "              \"      <td>Pass</td>\\n\",\n",
        "              \"    </tr>\\n\",\n",
        "              \"    <tr>\\n\",\n",
        "              \"      <th>5</th>\\n\",\n",
        "              \"      <td>Alice</td>\\n\",\n",
        "              \"      <td>18</td>\\n\",\n",
        "              \"      <td>Pass</td>\\n\",\n",
        "              \"    </tr>\\n\",\n",
        "              \"    <tr>\\n\",\n",
        "              \"      <th>6</th>\\n\",\n",
        "              \"      <td>Thomas</td>\\n\",\n",
        "              \"      <td>5</td>\\n\",\n",
        "              \"      <td>Fail</td>\\n\",\n",
        "              \"    </tr>\\n\",\n",
        "              \"    <tr>\\n\",\n",
        "              \"      <th>7</th>\\n\",\n",
        "              \"      <td>Barbie</td>\\n\",\n",
        "              \"      <td>8</td>\\n\",\n",
        "              \"      <td>Fail</td>\\n\",\n",
        "              \"    </tr>\\n\",\n",
        "              \"  </tbody>\\n\",\n",
        "              \"</table>\\n\",\n",
        "              \"</div>\\n\",\n",
        "              \"      <button class=\\\"colab-df-convert\\\" onclick=\\\"convertToInteractive('df-f78e37a7-a1d0-4485-8e7f-f0e6233ab8f3')\\\"\\n\",\n",
        "              \"              title=\\\"Convert this dataframe to an interactive table.\\\"\\n\",\n",
        "              \"              style=\\\"display:none;\\\">\\n\",\n",
        "              \"        \\n\",\n",
        "              \"  <svg xmlns=\\\"http://www.w3.org/2000/svg\\\" height=\\\"24px\\\"viewBox=\\\"0 0 24 24\\\"\\n\",\n",
        "              \"       width=\\\"24px\\\">\\n\",\n",
        "              \"    <path d=\\\"M0 0h24v24H0V0z\\\" fill=\\\"none\\\"/>\\n\",\n",
        "              \"    <path d=\\\"M18.56 5.44l.94 2.06.94-2.06 2.06-.94-2.06-.94-.94-2.06-.94 2.06-2.06.94zm-11 1L8.5 8.5l.94-2.06 2.06-.94-2.06-.94L8.5 2.5l-.94 2.06-2.06.94zm10 10l.94 2.06.94-2.06 2.06-.94-2.06-.94-.94-2.06-.94 2.06-2.06.94z\\\"/><path d=\\\"M17.41 7.96l-1.37-1.37c-.4-.4-.92-.59-1.43-.59-.52 0-1.04.2-1.43.59L10.3 9.45l-7.72 7.72c-.78.78-.78 2.05 0 2.83L4 21.41c.39.39.9.59 1.41.59.51 0 1.02-.2 1.41-.59l7.78-7.78 2.81-2.81c.8-.78.8-2.07 0-2.86zM5.41 20L4 18.59l7.72-7.72 1.47 1.35L5.41 20z\\\"/>\\n\",\n",
        "              \"  </svg>\\n\",\n",
        "              \"      </button>\\n\",\n",
        "              \"      \\n\",\n",
        "              \"  <style>\\n\",\n",
        "              \"    .colab-df-container {\\n\",\n",
        "              \"      display:flex;\\n\",\n",
        "              \"      flex-wrap:wrap;\\n\",\n",
        "              \"      gap: 12px;\\n\",\n",
        "              \"    }\\n\",\n",
        "              \"\\n\",\n",
        "              \"    .colab-df-convert {\\n\",\n",
        "              \"      background-color: #E8F0FE;\\n\",\n",
        "              \"      border: none;\\n\",\n",
        "              \"      border-radius: 50%;\\n\",\n",
        "              \"      cursor: pointer;\\n\",\n",
        "              \"      display: none;\\n\",\n",
        "              \"      fill: #1967D2;\\n\",\n",
        "              \"      height: 32px;\\n\",\n",
        "              \"      padding: 0 0 0 0;\\n\",\n",
        "              \"      width: 32px;\\n\",\n",
        "              \"    }\\n\",\n",
        "              \"\\n\",\n",
        "              \"    .colab-df-convert:hover {\\n\",\n",
        "              \"      background-color: #E2EBFA;\\n\",\n",
        "              \"      box-shadow: 0px 1px 2px rgba(60, 64, 67, 0.3), 0px 1px 3px 1px rgba(60, 64, 67, 0.15);\\n\",\n",
        "              \"      fill: #174EA6;\\n\",\n",
        "              \"    }\\n\",\n",
        "              \"\\n\",\n",
        "              \"    [theme=dark] .colab-df-convert {\\n\",\n",
        "              \"      background-color: #3B4455;\\n\",\n",
        "              \"      fill: #D2E3FC;\\n\",\n",
        "              \"    }\\n\",\n",
        "              \"\\n\",\n",
        "              \"    [theme=dark] .colab-df-convert:hover {\\n\",\n",
        "              \"      background-color: #434B5C;\\n\",\n",
        "              \"      box-shadow: 0px 1px 3px 1px rgba(0, 0, 0, 0.15);\\n\",\n",
        "              \"      filter: drop-shadow(0px 1px 2px rgba(0, 0, 0, 0.3));\\n\",\n",
        "              \"      fill: #FFFFFF;\\n\",\n",
        "              \"    }\\n\",\n",
        "              \"  </style>\\n\",\n",
        "              \"\\n\",\n",
        "              \"      <script>\\n\",\n",
        "              \"        const buttonEl =\\n\",\n",
        "              \"          document.querySelector('#df-f78e37a7-a1d0-4485-8e7f-f0e6233ab8f3 button.colab-df-convert');\\n\",\n",
        "              \"        buttonEl.style.display =\\n\",\n",
        "              \"          google.colab.kernel.accessAllowed ? 'block' : 'none';\\n\",\n",
        "              \"\\n\",\n",
        "              \"        async function convertToInteractive(key) {\\n\",\n",
        "              \"          const element = document.querySelector('#df-f78e37a7-a1d0-4485-8e7f-f0e6233ab8f3');\\n\",\n",
        "              \"          const dataTable =\\n\",\n",
        "              \"            await google.colab.kernel.invokeFunction('convertToInteractive',\\n\",\n",
        "              \"                                                     [key], {});\\n\",\n",
        "              \"          if (!dataTable) return;\\n\",\n",
        "              \"\\n\",\n",
        "              \"          const docLinkHtml = 'Like what you see? Visit the ' +\\n\",\n",
        "              \"            '<a target=\\\"_blank\\\" href=https://colab.research.google.com/notebooks/data_table.ipynb>data table notebook</a>'\\n\",\n",
        "              \"            + ' to learn more about interactive tables.';\\n\",\n",
        "              \"          element.innerHTML = '';\\n\",\n",
        "              \"          dataTable['output_type'] = 'display_data';\\n\",\n",
        "              \"          await google.colab.output.renderOutput(dataTable, element);\\n\",\n",
        "              \"          const docLink = document.createElement('div');\\n\",\n",
        "              \"          docLink.innerHTML = docLinkHtml;\\n\",\n",
        "              \"          element.appendChild(docLink);\\n\",\n",
        "              \"        }\\n\",\n",
        "              \"      </script>\\n\",\n",
        "              \"    </div>\\n\",\n",
        "              \"  </div>\\n\",\n",
        "              \"  \"\n",
        "            ]\n",
        "          },\n",
        "          \"metadata\": {},\n",
        "          \"execution_count\": 7\n",
        "        }\n",
        "      ],\n",
        "      \"source\": [\n",
        "        \"import pandas as pd\\n\",\n",
        "        \"  \\n\",\n",
        "        \"# dictionary\\n\",\n",
        "        \"record = {\\n\",\n",
        "        \"  \\\"Name\\\": [\\\"Tom\\\", \\\"Jack\\\", \\\"Lucy\\\",\\n\",\n",
        "        \"           \\\"Bob\\\", \\\"Jerry\\\", \\\"Alice\\\",\\n\",\n",
        "        \"           \\\"Thomas\\\", \\\"Barbie\\\"],\\n\",\n",
        "        \"    \\n\",\n",
        "        \"   \\\"Marks\\\": [9, 19, 20, \\n\",\n",
        "        \"             17, 11, 18,\\n\",\n",
        "        \"             5, 8], \\n\",\n",
        "        \"    \\n\",\n",
        "        \"  \\\"Status\\\": [\\\"Fail\\\", \\\"Pass\\\", \\\"Pass\\\",\\n\",\n",
        "        \"             \\\"Pass\\\",\\\"Pass\\\", \\\"Pass\\\",\\n\",\n",
        "        \"             \\\"Fail\\\", \\\"Fail\\\"]}\\n\",\n",
        "        \"  \\n\",\n",
        "        \"# converting record into\\n\",\n",
        "        \"# pandas dataframe\\n\",\n",
        "        \"df = pd.DataFrame(record)\\n\",\n",
        "        \"  \\n\",\n",
        "        \"# printing whole dataframe\\n\",\n",
        "        \"df\"\n",
        "      ]\n",
        "    },\n",
        "    {\n",
        "      \"cell_type\": \"markdown\",\n",
        "      \"metadata\": {\n",
        "        \"id\": \"BIdr-n1lYs2L\"\n",
        "      },\n",
        "      \"source\": [\n",
        "        \"**7.** Select just the 'animal' and 'age' columns from the DataFrame `df`.\"\n",
        "      ]\n",
        "    },\n",
        "    {\n",
        "      \"cell_type\": \"code\",\n",
        "      \"execution_count\": null,\n",
        "      \"metadata\": {\n",
        "        \"collapsed\": true,\n",
        "        \"id\": \"f0auimfaYs2L\"\n",
        "      },\n",
        "      \"outputs\": [],\n",
        "      \"source\": [\n",
        "        \"import pandas as pd\\n\",\n",
        "        \"import numpy as np\"\n",
        "      ]\n",
        "    },\n",
        "    {\n",
        "      \"cell_type\": \"markdown\",\n",
        "      \"metadata\": {\n",
        "        \"id\": \"9AI39hgGYs2L\"\n",
        "      },\n",
        "      \"source\": [\n",
        "        \"**8.** Select the data in rows `[3, 4, 8]` *and* in columns `['animal', 'age']`.\"\n",
        "      ]\n",
        "    },\n",
        "    {\n",
        "      \"cell_type\": \"code\",\n",
        "      \"execution_count\": null,\n",
        "      \"metadata\": {\n",
        "        \"collapsed\": true,\n",
        "        \"id\": \"D2saTtYUYs2L\"\n",
        "      },\n",
        "      \"outputs\": [],\n",
        "      \"source\": [\n",
        "        \"import pandas as pd\\n\",\n",
        "        \"import numpy as np\\n\"\n",
        "      ]\n",
        "    },\n",
        "    {\n",
        "      \"cell_type\": \"markdown\",\n",
        "      \"metadata\": {\n",
        "        \"id\": \"uonhpbfZYs2L\"\n",
        "      },\n",
        "      \"source\": [\n",
        "        \"**9.** Select only the rows where the number of visits is greater than 3.\"\n",
        "      ]\n",
        "    },\n",
        "    {\n",
        "      \"cell_type\": \"code\",\n",
        "      \"execution_count\": null,\n",
        "      \"metadata\": {\n",
        "        \"collapsed\": true,\n",
        "        \"id\": \"qnWgGw6hYs2L\"\n",
        "      },\n",
        "      \"outputs\": [],\n",
        "      \"source\": [\n",
        "        \"import pandas as pd\\n\",\n",
        "        \"import numpy as np\"\n",
        "      ]\n",
        "    },\n",
        "    {\n",
        "      \"cell_type\": \"markdown\",\n",
        "      \"metadata\": {\n",
        "        \"id\": \"u-lgbiPZYs2M\"\n",
        "      },\n",
        "      \"source\": [\n",
        "        \"**10.** Select the rows where the age is missing, i.e. is `NaN`.\"\n",
        "      ]\n",
        "    },\n",
        "    {\n",
        "      \"cell_type\": \"code\",\n",
        "      \"execution_count\": null,\n",
        "      \"metadata\": {\n",
        "        \"collapsed\": true,\n",
        "        \"id\": \"n0cIN4-jYs2M\"\n",
        "      },\n",
        "      \"outputs\": [],\n",
        "      \"source\": [\n",
        "        \"import pandas as pd\\n\",\n",
        "        \"import numpy as np\"\n",
        "      ]\n",
        "    },\n",
        "    {\n",
        "      \"cell_type\": \"markdown\",\n",
        "      \"metadata\": {\n",
        "        \"id\": \"tkywvZwbYs2M\"\n",
        "      },\n",
        "      \"source\": [\n",
        "        \"**11.** Select the rows where the animal is a cat *and* the age is less than 3.\"\n",
        "      ]\n",
        "    },\n",
        "    {\n",
        "      \"cell_type\": \"code\",\n",
        "      \"execution_count\": null,\n",
        "      \"metadata\": {\n",
        "        \"collapsed\": true,\n",
        "        \"id\": \"J_0Ny5D8Ys2M\"\n",
        "      },\n",
        "      \"outputs\": [],\n",
        "      \"source\": [\n",
        "        \"import pandas as pd\\n\",\n",
        "        \"import numpy as np\"\n",
        "      ]\n",
        "    },\n",
        "    {\n",
        "      \"cell_type\": \"markdown\",\n",
        "      \"metadata\": {\n",
        "        \"id\": \"ZHPI4yrAYs2M\"\n",
        "      },\n",
        "      \"source\": [\n",
        "        \"**12.** Select the rows the age is between 2 and 4 (inclusive).\"\n",
        "      ]\n",
        "    },\n",
        "    {\n",
        "      \"cell_type\": \"code\",\n",
        "      \"execution_count\": null,\n",
        "      \"metadata\": {\n",
        "        \"collapsed\": true,\n",
        "        \"id\": \"7RYVg9M-Ys2M\"\n",
        "      },\n",
        "      \"outputs\": [],\n",
        "      \"source\": [\n",
        "        \"import pandas as pd\\n\",\n",
        "        \"import numpy as np\"\n",
        "      ]\n",
        "    },\n",
        "    {\n",
        "      \"cell_type\": \"markdown\",\n",
        "      \"metadata\": {\n",
        "        \"id\": \"66Xv43xaYs2M\"\n",
        "      },\n",
        "      \"source\": [\n",
        "        \"**13.** Change the age in row 'f' to 1.5.\"\n",
        "      ]\n",
        "    },\n",
        "    {\n",
        "      \"cell_type\": \"code\",\n",
        "      \"execution_count\": null,\n",
        "      \"metadata\": {\n",
        "        \"collapsed\": true,\n",
        "        \"id\": \"SmHJvRPrYs2M\"\n",
        "      },\n",
        "      \"outputs\": [],\n",
        "      \"source\": [\n",
        "        \"import pandas as pd\\n\",\n",
        "        \"import numpy as np\"\n",
        "      ]\n",
        "    },\n",
        "    {\n",
        "      \"cell_type\": \"markdown\",\n",
        "      \"metadata\": {\n",
        "        \"id\": \"PaziTKo5Ys2M\"\n",
        "      },\n",
        "      \"source\": [\n",
        "        \"**14.** Calculate the sum of all visits (the total number of visits).\"\n",
        "      ]\n",
        "    },\n",
        "    {\n",
        "      \"cell_type\": \"code\",\n",
        "      \"execution_count\": null,\n",
        "      \"metadata\": {\n",
        "        \"collapsed\": true,\n",
        "        \"id\": \"uKNoHcHdYs2M\"\n",
        "      },\n",
        "      \"outputs\": [],\n",
        "      \"source\": [\n",
        "        \"import pandas as pd\\n\",\n",
        "        \"import numpy as np\"\n",
        "      ]\n",
        "    },\n",
        "    {\n",
        "      \"cell_type\": \"markdown\",\n",
        "      \"metadata\": {\n",
        "        \"id\": \"vcA4yNkzYs2M\"\n",
        "      },\n",
        "      \"source\": [\n",
        "        \"**15.** Calculate the mean age for each different animal in `df`.\"\n",
        "      ]\n",
        "    },\n",
        "    {\n",
        "      \"cell_type\": \"code\",\n",
        "      \"execution_count\": null,\n",
        "      \"metadata\": {\n",
        "        \"collapsed\": true,\n",
        "        \"id\": \"WJ0ncXnkYs2N\"\n",
        "      },\n",
        "      \"outputs\": [],\n",
        "      \"source\": [\n",
        "        \"import pandas as pd\\n\",\n",
        "        \"import numpy as np\"\n",
        "      ]\n",
        "    },\n",
        "    {\n",
        "      \"cell_type\": \"markdown\",\n",
        "      \"metadata\": {\n",
        "        \"id\": \"PlSfDhv3Ys2N\"\n",
        "      },\n",
        "      \"source\": [\n",
        "        \"**16.** Append a new row 'k' to `df` with your choice of values for each column. Then delete that row to return the original DataFrame.\"\n",
        "      ]\n",
        "    },\n",
        "    {\n",
        "      \"cell_type\": \"code\",\n",
        "      \"execution_count\": null,\n",
        "      \"metadata\": {\n",
        "        \"collapsed\": true,\n",
        "        \"id\": \"44_cDhQ4Ys2N\"\n",
        "      },\n",
        "      \"outputs\": [],\n",
        "      \"source\": [\n",
        "        \"import pandas as pd\\n\",\n",
        "        \"import numpy as np\"\n",
        "      ]\n",
        "    },\n",
        "    {\n",
        "      \"cell_type\": \"markdown\",\n",
        "      \"metadata\": {\n",
        "        \"id\": \"PLmVpy4JYs2N\"\n",
        "      },\n",
        "      \"source\": [\n",
        "        \"**17.** Count the number of each type of animal in `df`.\"\n",
        "      ]\n",
        "    },\n",
        "    {\n",
        "      \"cell_type\": \"code\",\n",
        "      \"execution_count\": null,\n",
        "      \"metadata\": {\n",
        "        \"collapsed\": true,\n",
        "        \"id\": \"smtNDY5yYs2N\"\n",
        "      },\n",
        "      \"outputs\": [],\n",
        "      \"source\": [\n",
        "        \"import pandas as pd\\n\",\n",
        "        \"import numpy as np\"\n",
        "      ]\n",
        "    },\n",
        "    {\n",
        "      \"cell_type\": \"markdown\",\n",
        "      \"metadata\": {\n",
        "        \"id\": \"z17CaYm8Ys2N\"\n",
        "      },\n",
        "      \"source\": [\n",
        "        \"**18.** Sort `df` first by the values in the 'age' in *decending* order, then by the value in the 'visit' column in *ascending* order.\"\n",
        "      ]\n",
        "    },\n",
        "    {\n",
        "      \"cell_type\": \"code\",\n",
        "      \"execution_count\": null,\n",
        "      \"metadata\": {\n",
        "        \"collapsed\": true,\n",
        "        \"id\": \"6GExcnEWYs2N\"\n",
        "      },\n",
        "      \"outputs\": [],\n",
        "      \"source\": [\n",
        "        \"import pandas as pd\\n\",\n",
        "        \"import numpy as np\"\n",
        "      ]\n",
        "    },\n",
        "    {\n",
        "      \"cell_type\": \"markdown\",\n",
        "      \"metadata\": {\n",
        "        \"id\": \"kwfXC8ZAYs2N\"\n",
        "      },\n",
        "      \"source\": [\n",
        "        \"**19.** The 'priority' column contains the values 'yes' and 'no'. Replace this column with a column of boolean values: 'yes' should be `True` and 'no' should be `False`.\"\n",
        "      ]\n",
        "    },\n",
        "    {\n",
        "      \"cell_type\": \"code\",\n",
        "      \"execution_count\": null,\n",
        "      \"metadata\": {\n",
        "        \"collapsed\": true,\n",
        "        \"id\": \"Id8XL8i4Ys2N\"\n",
        "      },\n",
        "      \"outputs\": [],\n",
        "      \"source\": [\n",
        "        \"import pandas as pd\\n\",\n",
        "        \"import numpy as np\"\n",
        "      ]\n",
        "    },\n",
        "    {\n",
        "      \"cell_type\": \"markdown\",\n",
        "      \"metadata\": {\n",
        "        \"id\": \"o3u59DtBYs2N\"\n",
        "      },\n",
        "      \"source\": [\n",
        "        \"**20.** In the 'animal' column, change the 'snake' entries to 'python'.\"\n",
        "      ]\n",
        "    },\n",
        "    {\n",
        "      \"cell_type\": \"code\",\n",
        "      \"execution_count\": null,\n",
        "      \"metadata\": {\n",
        "        \"collapsed\": true,\n",
        "        \"id\": \"ZpFBGWS2Ys2N\"\n",
        "      },\n",
        "      \"outputs\": [],\n",
        "      \"source\": [\n",
        "        \"import pandas as pd\\n\",\n",
        "        \"import numpy as np\"\n",
        "      ]\n",
        "    },\n",
        "    {\n",
        "      \"cell_type\": \"markdown\",\n",
        "      \"metadata\": {\n",
        "        \"id\": \"uYooZoxDYs2O\"\n",
        "      },\n",
        "      \"source\": [\n",
        "        \"**21.** For each animal type and each number of visits, find the mean age. In other words, each row is an animal, each column is a number of visits and the values are the mean ages (hint: use a pivot table).\"\n",
        "      ]\n",
        "    },\n",
        "    {\n",
        "      \"cell_type\": \"code\",\n",
        "      \"execution_count\": null,\n",
        "      \"metadata\": {\n",
        "        \"collapsed\": true,\n",
        "        \"id\": \"HITbuTdCYs2O\"\n",
        "      },\n",
        "      \"outputs\": [],\n",
        "      \"source\": [\n",
        "        \"import pandas as pd\\n\",\n",
        "        \"import numpy as np\"\n",
        "      ]\n",
        "    },\n",
        "    {\n",
        "      \"cell_type\": \"markdown\",\n",
        "      \"metadata\": {\n",
        "        \"id\": \"jnSEJONIYs2O\"\n",
        "      },\n",
        "      \"source\": [\n",
        "        \"## DataFrames: beyond the basics\\n\",\n",
        "        \"\\n\",\n",
        "        \"### Slightly trickier: you may need to combine two or more methods to get the right answer\\n\",\n",
        "        \"\\n\",\n",
        "        \"Difficulty: *medium*\\n\",\n",
        "        \"\\n\",\n",
        "        \"The previous section was tour through some basic but essential DataFrame operations. Below are some ways that you might need to cut your data, but for which there is no single \\\"out of the box\\\" method.\"\n",
        "      ]\n",
        "    },\n",
        "    {\n",
        "      \"cell_type\": \"markdown\",\n",
        "      \"metadata\": {\n",
        "        \"id\": \"Cn8neD9VYs2O\"\n",
        "      },\n",
        "      \"source\": [\n",
        "        \"**22.** You have a DataFrame `df` with a column 'A' of integers. For example:\\n\",\n",
        "        \"```python\\n\",\n",
        "        \"df = pd.DataFrame({'A': [1, 2, 2, 3, 4, 5, 5, 5, 6, 7, 7]})\\n\",\n",
        "        \"```\\n\",\n",
        "        \"\\n\",\n",
        "        \"How do you filter out rows which contain the same integer as the row immediately above?\"\n",
        "      ]\n",
        "    },\n",
        "    {\n",
        "      \"cell_type\": \"code\",\n",
        "      \"execution_count\": null,\n",
        "      \"metadata\": {\n",
        "        \"collapsed\": true,\n",
        "        \"id\": \"FnzVk4RhYs2O\"\n",
        "      },\n",
        "      \"outputs\": [],\n",
        "      \"source\": [\n",
        "        \"import pandas as pd\\n\",\n",
        "        \"import numpy as np\"\n",
        "      ]\n",
        "    },\n",
        "    {\n",
        "      \"cell_type\": \"markdown\",\n",
        "      \"metadata\": {\n",
        "        \"id\": \"HFZ9pCGvYs2O\"\n",
        "      },\n",
        "      \"source\": [\n",
        "        \"**23.** Given a DataFrame of numeric values, say\\n\",\n",
        "        \"```python\\n\",\n",
        "        \"df = pd.DataFrame(np.random.random(size=(5, 3))) # a 5x3 frame of float values\\n\",\n",
        "        \"```\\n\",\n",
        "        \"\\n\",\n",
        "        \"how do you subtract the row mean from each element in the row?\"\n",
        "      ]\n",
        "    },\n",
        "    {\n",
        "      \"cell_type\": \"code\",\n",
        "      \"execution_count\": null,\n",
        "      \"metadata\": {\n",
        "        \"collapsed\": true,\n",
        "        \"id\": \"ePnlpEsXYs2O\"\n",
        "      },\n",
        "      \"outputs\": [],\n",
        "      \"source\": [\n",
        "        \"import pandas as pd\\n\",\n",
        "        \"import numpy as np\"\n",
        "      ]\n",
        "    },\n",
        "    {\n",
        "      \"cell_type\": \"markdown\",\n",
        "      \"metadata\": {\n",
        "        \"id\": \"ru9176zBYs2O\"\n",
        "      },\n",
        "      \"source\": [\n",
        "        \"**24.** Suppose you have DataFrame with 10 columns of real numbers, for example:\\n\",\n",
        "        \"\\n\",\n",
        "        \"```python\\n\",\n",
        "        \"df = pd.DataFrame(np.random.random(size=(5, 10)), columns=list('abcdefghij'))\\n\",\n",
        "        \"```\\n\",\n",
        "        \"Which column of numbers has the smallest sum? (Find that column's label.)\"\n",
        "      ]\n",
        "    },\n",
        "    {\n",
        "      \"cell_type\": \"code\",\n",
        "      \"execution_count\": null,\n",
        "      \"metadata\": {\n",
        "        \"collapsed\": true,\n",
        "        \"id\": \"zBFsjGBwYs2O\"\n",
        "      },\n",
        "      \"outputs\": [],\n",
        "      \"source\": [\n",
        "        \"import pandas as pd\\n\",\n",
        "        \"import numpy as np\"\n",
        "      ]\n",
        "    },\n",
        "    {\n",
        "      \"cell_type\": \"markdown\",\n",
        "      \"metadata\": {\n",
        "        \"id\": \"z1GX4hooYs2O\"\n",
        "      },\n",
        "      \"source\": [\n",
        "        \"**25.** How do you count how many unique rows a DataFrame has (i.e. ignore all rows that are duplicates)?\"\n",
        "      ]\n",
        "    },\n",
        "    {\n",
        "      \"cell_type\": \"code\",\n",
        "      \"execution_count\": null,\n",
        "      \"metadata\": {\n",
        "        \"collapsed\": true,\n",
        "        \"id\": \"BT25RYiLYs2O\"\n",
        "      },\n",
        "      \"outputs\": [],\n",
        "      \"source\": [\n",
        "        \"import pandas as pd\\n\",\n",
        "        \"import numpy as np\"\n",
        "      ]\n",
        "    },\n",
        "    {\n",
        "      \"cell_type\": \"markdown\",\n",
        "      \"metadata\": {\n",
        "        \"id\": \"xPZxfvuEYs2P\"\n",
        "      },\n",
        "      \"source\": [\n",
        "        \"The next three puzzles are slightly harder...\\n\",\n",
        "        \"\\n\",\n",
        "        \"**26.** You have a DataFrame that consists of 10 columns of floating--point numbers. Suppose that exactly 5 entries in each row are NaN values. For each row of the DataFrame, find the *column* which contains the *third* NaN value.\\n\",\n",
        "        \"\\n\",\n",
        "        \"(You should return a Series of column labels.)\"\n",
        "      ]\n",
        "    },\n",
        "    {\n",
        "      \"cell_type\": \"code\",\n",
        "      \"execution_count\": null,\n",
        "      \"metadata\": {\n",
        "        \"collapsed\": true,\n",
        "        \"id\": \"kGmLhXMMYs2P\"\n",
        "      },\n",
        "      \"outputs\": [],\n",
        "      \"source\": [\n",
        "        \"import pandas as pd\\n\",\n",
        "        \"import numpy as np\"\n",
        "      ]\n",
        "    },\n",
        "    {\n",
        "      \"cell_type\": \"markdown\",\n",
        "      \"metadata\": {\n",
        "        \"id\": \"GZI7iZNNYs2P\"\n",
        "      },\n",
        "      \"source\": [\n",
        "        \"**27.** A DataFrame has a column of groups 'grps' and and column of numbers 'vals'. For example: \\n\",\n",
        "        \"\\n\",\n",
        "        \"```python\\n\",\n",
        "        \"df = pd.DataFrame({'grps': list('aaabbcaabcccbbc'), \\n\",\n",
        "        \"                   'vals': [12,345,3,1,45,14,4,52,54,23,235,21,57,3,87]})\\n\",\n",
        "        \"```\\n\",\n",
        "        \"For each *group*, find the sum of the three greatest values.\"\n",
        "      ]\n",
        "    },\n",
        "    {\n",
        "      \"cell_type\": \"code\",\n",
        "      \"execution_count\": null,\n",
        "      \"metadata\": {\n",
        "        \"collapsed\": true,\n",
        "        \"id\": \"v89jCT-SYs2P\"\n",
        "      },\n",
        "      \"outputs\": [],\n",
        "      \"source\": [\n",
        "        \"import pandas as pd\\n\",\n",
        "        \"import numpy as np\"\n",
        "      ]\n",
        "    },\n",
        "    {\n",
        "      \"cell_type\": \"markdown\",\n",
        "      \"metadata\": {\n",
        "        \"id\": \"0zzesArlYs2P\"\n",
        "      },\n",
        "      \"source\": [\n",
        "        \"**28.** A DataFrame has two integer columns 'A' and 'B'. The values in 'A' are between 1 and 100 (inclusive). For each group of 10 consecutive integers in 'A' (i.e. `(0, 10]`, `(10, 20]`, ...), calculate the sum of the corresponding values in column 'B'.\"\n",
        "      ]\n",
        "    },\n",
        "    {\n",
        "      \"cell_type\": \"code\",\n",
        "      \"execution_count\": null,\n",
        "      \"metadata\": {\n",
        "        \"collapsed\": true,\n",
        "        \"id\": \"Fw7aK7VEYs2P\"\n",
        "      },\n",
        "      \"outputs\": [],\n",
        "      \"source\": [\n",
        "        \"import pandas as pd\\n\",\n",
        "        \"import numpy as np\"\n",
        "      ]\n",
        "    },\n",
        "    {\n",
        "      \"cell_type\": \"markdown\",\n",
        "      \"metadata\": {\n",
        "        \"id\": \"sFNvArYtYs2P\"\n",
        "      },\n",
        "      \"source\": [\n",
        "        \"## DataFrames: harder problems \\n\",\n",
        "        \"\\n\",\n",
        "        \"### These might require a bit of thinking outside the box...\\n\",\n",
        "        \"\\n\",\n",
        "        \"...but all are solvable using just the usual pandas/NumPy methods (and so avoid using explicit `for` loops).\\n\",\n",
        "        \"\\n\",\n",
        "        \"Difficulty: *hard*\"\n",
        "      ]\n",
        "    },\n",
        "    {\n",
        "      \"cell_type\": \"markdown\",\n",
        "      \"metadata\": {\n",
        "        \"id\": \"kpgPOrUfYs2P\"\n",
        "      },\n",
        "      \"source\": [\n",
        "        \"**29.** Consider a DataFrame `df` where there is an integer column 'X':\\n\",\n",
        "        \"```python\\n\",\n",
        "        \"df = pd.DataFrame({'X': [7, 2, 0, 3, 4, 2, 5, 0, 3, 4]})\\n\",\n",
        "        \"```\\n\",\n",
        "        \"For each value, count the difference back to the previous zero (or the start of the Series, whichever is closer). These values should therefore be `[1, 2, 0, 1, 2, 3, 4, 0, 1, 2]`. Make this a new column 'Y'.\"\n",
        "      ]\n",
        "    },\n",
        "    {\n",
        "      \"cell_type\": \"code\",\n",
        "      \"execution_count\": null,\n",
        "      \"metadata\": {\n",
        "        \"collapsed\": true,\n",
        "        \"id\": \"lJxpZ75lYs2Q\"\n",
        "      },\n",
        "      \"outputs\": [],\n",
        "      \"source\": [\n",
        "        \"import pandas as pd\\n\",\n",
        "        \"import numpy as np\"\n",
        "      ]\n",
        "    },\n",
        "    {\n",
        "      \"cell_type\": \"markdown\",\n",
        "      \"metadata\": {\n",
        "        \"id\": \"9QFcKoxSYs2Q\"\n",
        "      },\n",
        "      \"source\": [\n",
        "        \"Here's an alternative approach based on a [cookbook recipe](http://pandas.pydata.org/pandas-docs/stable/cookbook.html#grouping):\"\n",
        "      ]\n",
        "    },\n",
        "    {\n",
        "      \"cell_type\": \"code\",\n",
        "      \"execution_count\": null,\n",
        "      \"metadata\": {\n",
        "        \"collapsed\": true,\n",
        "        \"id\": \"rQSaucg2Ys2Q\"\n",
        "      },\n",
        "      \"outputs\": [],\n",
        "      \"source\": [\n",
        "        \"import pandas as pd\\n\",\n",
        "        \"import numpy as np\"\n",
        "      ]\n",
        "    },\n",
        "    {\n",
        "      \"cell_type\": \"markdown\",\n",
        "      \"metadata\": {\n",
        "        \"id\": \"TAuePRVEYs2Q\"\n",
        "      },\n",
        "      \"source\": [\n",
        "        \"**30.** Consider a DataFrame containing rows and columns of purely numerical data. Create a list of the row-column index locations of the 3 largest values.\"\n",
        "      ]\n",
        "    },\n",
        "    {\n",
        "      \"cell_type\": \"code\",\n",
        "      \"execution_count\": null,\n",
        "      \"metadata\": {\n",
        "        \"collapsed\": true,\n",
        "        \"id\": \"XZ5gm0cTYs2Q\"\n",
        "      },\n",
        "      \"outputs\": [],\n",
        "      \"source\": [\n",
        "        \"import pandas as pd\\n\",\n",
        "        \"import numpy as np\"\n",
        "      ]\n",
        "    },\n",
        "    {\n",
        "      \"cell_type\": \"markdown\",\n",
        "      \"metadata\": {\n",
        "        \"id\": \"ITM8XArzYs2Q\"\n",
        "      },\n",
        "      \"source\": [\n",
        "        \"**31.** Given a DataFrame with a column of group IDs, 'grps', and a column of corresponding integer values, 'vals', replace any negative values in 'vals' with the group mean.\"\n",
        "      ]\n",
        "    },\n",
        "    {\n",
        "      \"cell_type\": \"code\",\n",
        "      \"execution_count\": null,\n",
        "      \"metadata\": {\n",
        "        \"collapsed\": true,\n",
        "        \"id\": \"gMtgL2SuYs2Q\"\n",
        "      },\n",
        "      \"outputs\": [],\n",
        "      \"source\": [\n",
        "        \"import pandas as pd\\n\",\n",
        "        \"import numpy as np\"\n",
        "      ]\n",
        "    },\n",
        "    {\n",
        "      \"cell_type\": \"markdown\",\n",
        "      \"metadata\": {\n",
        "        \"id\": \"0SWVRo6SYs2Q\"\n",
        "      },\n",
        "      \"source\": [\n",
        "        \"**32.** Implement a rolling mean over groups with window size 3, which ignores NaN value. For example consider the following DataFrame:\\n\",\n",
        "        \"\\n\",\n",
        "        \"```python\\n\",\n",
        "        \">>> df = pd.DataFrame({'group': list('aabbabbbabab'),\\n\",\n",
        "        \"                       'value': [1, 2, 3, np.nan, 2, 3, \\n\",\n",
        "        \"                                 np.nan, 1, 7, 3, np.nan, 8]})\\n\",\n",
        "        \">>> df\\n\",\n",
        "        \"   group  value\\n\",\n",
        "        \"0      a    1.0\\n\",\n",
        "        \"1      a    2.0\\n\",\n",
        "        \"2      b    3.0\\n\",\n",
        "        \"3      b    NaN\\n\",\n",
        "        \"4      a    2.0\\n\",\n",
        "        \"5      b    3.0\\n\",\n",
        "        \"6      b    NaN\\n\",\n",
        "        \"7      b    1.0\\n\",\n",
        "        \"8      a    7.0\\n\",\n",
        "        \"9      b    3.0\\n\",\n",
        "        \"10     a    NaN\\n\",\n",
        "        \"11     b    8.0\\n\",\n",
        "        \"```\\n\",\n",
        "        \"The goal is to compute the Series:\\n\",\n",
        "        \"\\n\",\n",
        "        \"```\\n\",\n",
        "        \"0     1.000000\\n\",\n",
        "        \"1     1.500000\\n\",\n",
        "        \"2     3.000000\\n\",\n",
        "        \"3     3.000000\\n\",\n",
        "        \"4     1.666667\\n\",\n",
        "        \"5     3.000000\\n\",\n",
        "        \"6     3.000000\\n\",\n",
        "        \"7     2.000000\\n\",\n",
        "        \"8     3.666667\\n\",\n",
        "        \"9     2.000000\\n\",\n",
        "        \"10    4.500000\\n\",\n",
        "        \"11    4.000000\\n\",\n",
        "        \"```\\n\",\n",
        "        \"E.g. the first window of size three for group 'b' has values 3.0, NaN and 3.0 and occurs at row index 5. Instead of being NaN the value in the new column at this row index should be 3.0 (just the two non-NaN values are used to compute the mean (3+3)/2)\"\n",
        "      ]\n",
        "    },\n",
        "    {\n",
        "      \"cell_type\": \"code\",\n",
        "      \"execution_count\": null,\n",
        "      \"metadata\": {\n",
        "        \"collapsed\": true,\n",
        "        \"id\": \"Io59EoJiYs2Q\"\n",
        "      },\n",
        "      \"outputs\": [],\n",
        "      \"source\": [\n",
        "        \"\\n\",\n",
        "        \"import pandas as pd\"\n",
        "      ]\n",
        "    },\n",
        "    {\n",
        "      \"cell_type\": \"markdown\",\n",
        "      \"metadata\": {\n",
        "        \"id\": \"9bLgR-6-Ys2Q\"\n",
        "      },\n",
        "      \"source\": [\n",
        "        \"## Series and DatetimeIndex\\n\",\n",
        "        \"\\n\",\n",
        "        \"### Exercises for creating and manipulating Series with datetime data\\n\",\n",
        "        \"\\n\",\n",
        "        \"Difficulty: *easy/medium*\\n\",\n",
        "        \"\\n\",\n",
        "        \"pandas is fantastic for working with dates and times. These puzzles explore some of this functionality.\\n\"\n",
        "      ]\n",
        "    },\n",
        "    {\n",
        "      \"cell_type\": \"markdown\",\n",
        "      \"metadata\": {\n",
        "        \"id\": \"bU5-5wXFYs2Q\"\n",
        "      },\n",
        "      \"source\": [\n",
        "        \"**33.** Create a DatetimeIndex that contains each business day of 2015 and use it to index a Series of random numbers. Let's call this Series `s`.\"\n",
        "      ]\n",
        "    },\n",
        "    {\n",
        "      \"cell_type\": \"code\",\n",
        "      \"execution_count\": null,\n",
        "      \"metadata\": {\n",
        "        \"collapsed\": true,\n",
        "        \"id\": \"R7WGul9vYs2Q\"\n",
        "      },\n",
        "      \"outputs\": [],\n",
        "      \"source\": [\n",
        "        \"\\n\",\n",
        "        \"import pandas as pd\"\n",
        "      ]\n",
        "    },\n",
        "    {\n",
        "      \"cell_type\": \"markdown\",\n",
        "      \"metadata\": {\n",
        "        \"id\": \"l3Dr4vCsYs2Q\"\n",
        "      },\n",
        "      \"source\": [\n",
        "        \"**34.** Find the sum of the values in `s` for every Wednesday.\"\n",
        "      ]\n",
        "    },\n",
        "    {\n",
        "      \"cell_type\": \"code\",\n",
        "      \"execution_count\": null,\n",
        "      \"metadata\": {\n",
        "        \"collapsed\": true,\n",
        "        \"id\": \"R1yafVGuYs2R\"\n",
        "      },\n",
        "      \"outputs\": [],\n",
        "      \"source\": [\n",
        "        \"import pandas as pd\\n\"\n",
        "      ]\n",
        "    },\n",
        "    {\n",
        "      \"cell_type\": \"markdown\",\n",
        "      \"metadata\": {\n",
        "        \"id\": \"n2bv3lTIYs2R\"\n",
        "      },\n",
        "      \"source\": [\n",
        "        \"**35.** For each calendar month in `s`, find the mean of values.\"\n",
        "      ]\n",
        "    },\n",
        "    {\n",
        "      \"cell_type\": \"code\",\n",
        "      \"execution_count\": null,\n",
        "      \"metadata\": {\n",
        "        \"collapsed\": true,\n",
        "        \"id\": \"XHX4crGnYs2R\"\n",
        "      },\n",
        "      \"outputs\": [],\n",
        "      \"source\": [\n",
        "        \"import pandas as pd\\n\"\n",
        "      ]\n",
        "    },\n",
        "    {\n",
        "      \"cell_type\": \"markdown\",\n",
        "      \"metadata\": {\n",
        "        \"id\": \"JP7XV_0YYs2R\"\n",
        "      },\n",
        "      \"source\": [\n",
        "        \"**36.** For each group of four consecutive calendar months in `s`, find the date on which the highest value occurred.\"\n",
        "      ]\n",
        "    },\n",
        "    {\n",
        "      \"cell_type\": \"code\",\n",
        "      \"execution_count\": null,\n",
        "      \"metadata\": {\n",
        "        \"collapsed\": true,\n",
        "        \"id\": \"toFMWSZDYs2R\"\n",
        "      },\n",
        "      \"outputs\": [],\n",
        "      \"source\": [\n",
        "        \"import pandas as pd\"\n",
        "      ]\n",
        "    },\n",
        "    {\n",
        "      \"cell_type\": \"markdown\",\n",
        "      \"metadata\": {\n",
        "        \"id\": \"ywGaTvHTYs2R\"\n",
        "      },\n",
        "      \"source\": [\n",
        "        \"**37.** Create a DateTimeIndex consisting of the third Thursday in each month for the years 2015 and 2016.\"\n",
        "      ]\n",
        "    },\n",
        "    {\n",
        "      \"cell_type\": \"code\",\n",
        "      \"execution_count\": null,\n",
        "      \"metadata\": {\n",
        "        \"collapsed\": true,\n",
        "        \"id\": \"chSL7FieYs2R\"\n",
        "      },\n",
        "      \"outputs\": [],\n",
        "      \"source\": [\n",
        "        \"import pandas as pd\"\n",
        "      ]\n",
        "    },\n",
        "    {\n",
        "      \"cell_type\": \"markdown\",\n",
        "      \"metadata\": {\n",
        "        \"id\": \"MMbqQIjcYs2R\"\n",
        "      },\n",
        "      \"source\": [\n",
        "        \"## Cleaning Data\\n\",\n",
        "        \"\\n\",\n",
        "        \"### Making a DataFrame easier to work with\\n\",\n",
        "        \"\\n\",\n",
        "        \"Difficulty: *easy/medium*\\n\",\n",
        "        \"\\n\",\n",
        "        \"It happens all the time: someone gives you data containing malformed strings, Python, lists and missing data. How do you tidy it up so you can get on with the analysis?\\n\",\n",
        "        \"\\n\",\n",
        "        \"Take this monstrosity as the DataFrame to use in the following puzzles:\\n\",\n",
        "        \"\\n\",\n",
        "        \"```python\\n\",\n",
        "        \"df = pd.DataFrame({'From_To': ['LoNDon_paris', 'MAdrid_miLAN', 'londON_StockhOlm', \\n\",\n",
        "        \"                               'Budapest_PaRis', 'Brussels_londOn'],\\n\",\n",
        "        \"              'FlightNumber': [10045, np.nan, 10065, np.nan, 10085],\\n\",\n",
        "        \"              'RecentDelays': [[23, 47], [], [24, 43, 87], [13], [67, 32]],\\n\",\n",
        "        \"                   'Airline': ['KLM(!)', '<Air France> (12)', '(British Airways. )', \\n\",\n",
        "        \"                               '12. Air France', '\\\"Swiss Air\\\"']})\\n\",\n",
        "        \"```\\n\",\n",
        "        \"(It's some flight data I made up; it's not meant to be accurate in any way.)\\n\"\n",
        "      ]\n",
        "    },\n",
        "    {\n",
        "      \"cell_type\": \"markdown\",\n",
        "      \"metadata\": {\n",
        "        \"id\": \"Is3rTG4uYs2R\"\n",
        "      },\n",
        "      \"source\": [\n",
        "        \"**38.** Some values in the the FlightNumber column are missing. These numbers are meant to increase by 10 with each row so 10055 and 10075 need to be put in place. Fill in these missing numbers and make the column an integer column (instead of a float column).\"\n",
        "      ]\n",
        "    },\n",
        "    {\n",
        "      \"cell_type\": \"code\",\n",
        "      \"execution_count\": null,\n",
        "      \"metadata\": {\n",
        "        \"collapsed\": true,\n",
        "        \"id\": \"PbpQijzWYs2S\"\n",
        "      },\n",
        "      \"outputs\": [],\n",
        "      \"source\": [\n",
        "        \"import pandas as pd\"\n",
        "      ]\n",
        "    },\n",
        "    {\n",
        "      \"cell_type\": \"markdown\",\n",
        "      \"metadata\": {\n",
        "        \"id\": \"IYGiyoYQYs2S\"\n",
        "      },\n",
        "      \"source\": [\n",
        "        \"**39.** The From\\\\_To column would be better as two separate columns! Split each string on the underscore delimiter `_` to give a new temporary DataFrame with the correct values. Assign the correct column names to this temporary DataFrame. \"\n",
        "      ]\n",
        "    },\n",
        "    {\n",
        "      \"cell_type\": \"code\",\n",
        "      \"execution_count\": null,\n",
        "      \"metadata\": {\n",
        "        \"collapsed\": true,\n",
        "        \"id\": \"pwDl9TdFYs2S\"\n",
        "      },\n",
        "      \"outputs\": [],\n",
        "      \"source\": [\n",
        "        \"import pandas as pd\"\n",
        "      ]\n",
        "    },\n",
        "    {\n",
        "      \"cell_type\": \"markdown\",\n",
        "      \"metadata\": {\n",
        "        \"id\": \"Xk6XngFVYs2S\"\n",
        "      },\n",
        "      \"source\": [\n",
        "        \"**40.** Notice how the capitalisation of the city names is all mixed up in this temporary DataFrame. Standardise the strings so that only the first letter is uppercase (e.g. \\\"londON\\\" should become \\\"London\\\".)\"\n",
        "      ]\n",
        "    },\n",
        "    {\n",
        "      \"cell_type\": \"code\",\n",
        "      \"execution_count\": null,\n",
        "      \"metadata\": {\n",
        "        \"collapsed\": true,\n",
        "        \"id\": \"0zgzFK7EYs2S\"\n",
        "      },\n",
        "      \"outputs\": [],\n",
        "      \"source\": [\n",
        "        \"import pandas as pd\"\n",
        "      ]\n",
        "    },\n",
        "    {\n",
        "      \"cell_type\": \"markdown\",\n",
        "      \"metadata\": {\n",
        "        \"id\": \"3vM2OrcEYs2T\"\n",
        "      },\n",
        "      \"source\": [\n",
        "        \"**41.** Delete the From_To column from `df` and attach the temporary DataFrame from the previous questions.\"\n",
        "      ]\n",
        "    },\n",
        "    {\n",
        "      \"cell_type\": \"code\",\n",
        "      \"execution_count\": null,\n",
        "      \"metadata\": {\n",
        "        \"collapsed\": true,\n",
        "        \"id\": \"Yi9FlPILYs2T\"\n",
        "      },\n",
        "      \"outputs\": [],\n",
        "      \"source\": [\n",
        "        \"import pandas as pd\"\n",
        "      ]\n",
        "    },\n",
        "    {\n",
        "      \"cell_type\": \"markdown\",\n",
        "      \"metadata\": {\n",
        "        \"id\": \"cXPfsCZyYs2T\"\n",
        "      },\n",
        "      \"source\": [\n",
        "        \"**42**. In the Airline column, you can see some extra puctuation and symbols have appeared around the airline names. Pull out just the airline name. E.g. `'(British Airways. )'` should become `'British Airways'`.\"\n",
        "      ]\n",
        "    },\n",
        "    {\n",
        "      \"cell_type\": \"code\",\n",
        "      \"execution_count\": null,\n",
        "      \"metadata\": {\n",
        "        \"collapsed\": true,\n",
        "        \"id\": \"kfnvpC3MYs2T\"\n",
        "      },\n",
        "      \"outputs\": [],\n",
        "      \"source\": [\n",
        "        \"import pandas as pd\"\n",
        "      ]\n",
        "    },\n",
        "    {\n",
        "      \"cell_type\": \"markdown\",\n",
        "      \"metadata\": {\n",
        "        \"id\": \"w5eDnn37Ys2T\"\n",
        "      },\n",
        "      \"source\": [\n",
        "        \"**43**. In the RecentDelays column, the values have been entered into the DataFrame as a list. We would like each first value in its own column, each second value in its own column, and so on. If there isn't an Nth value, the value should be NaN.\\n\",\n",
        "        \"\\n\",\n",
        "        \"Expand the Series of lists into a DataFrame named `delays`, rename the columns `delay_1`, `delay_2`, etc. and replace the unwanted RecentDelays column in `df` with `delays`.\"\n",
        "      ]\n",
        "    },\n",
        "    {\n",
        "      \"cell_type\": \"code\",\n",
        "      \"execution_count\": null,\n",
        "      \"metadata\": {\n",
        "        \"collapsed\": true,\n",
        "        \"id\": \"OW-s8CYoYs2T\"\n",
        "      },\n",
        "      \"outputs\": [],\n",
        "      \"source\": [\n",
        "        \"import pandas as pd\"\n",
        "      ]\n",
        "    },\n",
        "    {\n",
        "      \"cell_type\": \"markdown\",\n",
        "      \"metadata\": {\n",
        "        \"id\": \"cNlUPJ3DYs2T\"\n",
        "      },\n",
        "      \"source\": [\n",
        "        \"The DataFrame should look much better now.\"\n",
        "      ]\n",
        "    },\n",
        "    {\n",
        "      \"cell_type\": \"markdown\",\n",
        "      \"metadata\": {\n",
        "        \"collapsed\": true,\n",
        "        \"id\": \"wZqGlyWiYs2T\"\n",
        "      },\n",
        "      \"source\": [\n",
        "        \"## Using MultiIndexes\\n\",\n",
        "        \"\\n\",\n",
        "        \"### Go beyond flat DataFrames with additional index levels\\n\",\n",
        "        \"\\n\",\n",
        "        \"Difficulty: *medium*\\n\",\n",
        "        \"\\n\",\n",
        "        \"Previous exercises have seen us analysing data from DataFrames equipped with a single index level. However, pandas also gives you the possibilty of indexing your data using *multiple* levels. This is very much like adding new dimensions to a Series or a DataFrame. For example, a Series is 1D, but by using a MultiIndex with 2 levels we gain of much the same functionality as a 2D DataFrame.\\n\",\n",
        "        \"\\n\",\n",
        "        \"The set of puzzles below explores how you might use multiple index levels to enhance data analysis.\\n\",\n",
        "        \"\\n\",\n",
        "        \"To warm up, we'll look make a Series with two index levels. \"\n",
        "      ]\n",
        "    },\n",
        "    {\n",
        "      \"cell_type\": \"markdown\",\n",
        "      \"metadata\": {\n",
        "        \"id\": \"iLZxQlcVYs2T\"\n",
        "      },\n",
        "      \"source\": [\n",
        "        \"**44**. Given the lists `letters = ['A', 'B', 'C']` and `numbers = list(range(10))`, construct a MultiIndex object from the product of the two lists. Use it to index a Series of random numbers. Call this Series `s`.\"\n",
        "      ]\n",
        "    },\n",
        "    {\n",
        "      \"cell_type\": \"code\",\n",
        "      \"execution_count\": null,\n",
        "      \"metadata\": {\n",
        "        \"collapsed\": true,\n",
        "        \"id\": \"UKxJRnYEYs2T\"\n",
        "      },\n",
        "      \"outputs\": [],\n",
        "      \"source\": [\n",
        "        \"import pandas as pd\"\n",
        "      ]\n",
        "    },\n",
        "    {\n",
        "      \"cell_type\": \"markdown\",\n",
        "      \"metadata\": {\n",
        "        \"id\": \"CVy6B_tMYs2T\"\n",
        "      },\n",
        "      \"source\": [\n",
        "        \"**45.** Check the index of `s` is lexicographically sorted (this is a necessary proprty for indexing to work correctly with a MultiIndex).\"\n",
        "      ]\n",
        "    },\n",
        "    {\n",
        "      \"cell_type\": \"code\",\n",
        "      \"execution_count\": null,\n",
        "      \"metadata\": {\n",
        "        \"collapsed\": true,\n",
        "        \"id\": \"2YZBaBzqYs2T\"\n",
        "      },\n",
        "      \"outputs\": [],\n",
        "      \"source\": [\n",
        "        \"import pandas as pd\"\n",
        "      ]\n",
        "    },\n",
        "    {\n",
        "      \"cell_type\": \"markdown\",\n",
        "      \"metadata\": {\n",
        "        \"id\": \"l9zVfwB7Ys2T\"\n",
        "      },\n",
        "      \"source\": [\n",
        "        \"**46**. Select the labels `1`, `3` and `6` from the second level of the MultiIndexed Series.\"\n",
        "      ]\n",
        "    },\n",
        "    {\n",
        "      \"cell_type\": \"code\",\n",
        "      \"execution_count\": null,\n",
        "      \"metadata\": {\n",
        "        \"collapsed\": true,\n",
        "        \"id\": \"-OOcQyDNYs2T\"\n",
        "      },\n",
        "      \"outputs\": [],\n",
        "      \"source\": [\n",
        "        \"import pandas as pd\"\n",
        "      ]\n",
        "    },\n",
        "    {\n",
        "      \"cell_type\": \"markdown\",\n",
        "      \"metadata\": {\n",
        "        \"id\": \"I6LGYcrUYs2T\"\n",
        "      },\n",
        "      \"source\": [\n",
        "        \"**47**. Slice the Series `s`; slice up to label 'B' for the first level and from label 5 onwards for the second level.\"\n",
        "      ]\n",
        "    },\n",
        "    {\n",
        "      \"cell_type\": \"code\",\n",
        "      \"execution_count\": null,\n",
        "      \"metadata\": {\n",
        "        \"collapsed\": true,\n",
        "        \"id\": \"tD_-tO50Ys2U\"\n",
        "      },\n",
        "      \"outputs\": [],\n",
        "      \"source\": [\n",
        "        \"import pandas as pd\"\n",
        "      ]\n",
        "    },\n",
        "    {\n",
        "      \"cell_type\": \"markdown\",\n",
        "      \"metadata\": {\n",
        "        \"id\": \"Ph7uOAD8Ys2U\"\n",
        "      },\n",
        "      \"source\": [\n",
        "        \"**48**. Sum the values in `s` for each label in the first level (you should have Series giving you a total for labels A, B and C).\"\n",
        "      ]\n",
        "    },\n",
        "    {\n",
        "      \"cell_type\": \"code\",\n",
        "      \"execution_count\": null,\n",
        "      \"metadata\": {\n",
        "        \"collapsed\": true,\n",
        "        \"id\": \"hxaDPTmTYs2U\"\n",
        "      },\n",
        "      \"outputs\": [],\n",
        "      \"source\": [\n",
        "        \"import pandas as pd\"\n",
        "      ]\n",
        "    },\n",
        "    {\n",
        "      \"cell_type\": \"markdown\",\n",
        "      \"metadata\": {\n",
        "        \"id\": \"Lfnxgt9uYs2U\"\n",
        "      },\n",
        "      \"source\": [\n",
        "        \"**49**. Suppose that `sum()` (and other methods) did not accept a `level` keyword argument. How else could you perform the equivalent of `s.sum(level=1)`?\"\n",
        "      ]\n",
        "    },\n",
        "    {\n",
        "      \"cell_type\": \"code\",\n",
        "      \"execution_count\": null,\n",
        "      \"metadata\": {\n",
        "        \"collapsed\": true,\n",
        "        \"id\": \"N_hfz9ZeYs2U\"\n",
        "      },\n",
        "      \"outputs\": [],\n",
        "      \"source\": [\n",
        "        \"import pandas as pd\"\n",
        "      ]\n",
        "    },\n",
        "    {\n",
        "      \"cell_type\": \"markdown\",\n",
        "      \"metadata\": {\n",
        "        \"id\": \"I58bSDg4Ys2U\"\n",
        "      },\n",
        "      \"source\": [\n",
        "        \"**50**. Exchange the levels of the MultiIndex so we have an index of the form (letters, numbers). Is this new Series properly lexsorted? If not, sort it.\"\n",
        "      ]\n",
        "    },\n",
        "    {\n",
        "      \"cell_type\": \"markdown\",\n",
        "      \"metadata\": {\n",
        "        \"id\": \"GhlsH3KxYs2U\"\n",
        "      },\n",
        "      \"source\": [\n",
        "        \"## Minesweeper\\n\",\n",
        "        \"\\n\",\n",
        "        \"### Generate the numbers for safe squares in a Minesweeper grid\\n\",\n",
        "        \"\\n\",\n",
        "        \"Difficulty: *medium* to *hard*\\n\",\n",
        "        \"\\n\",\n",
        "        \"If you've ever used an older version of Windows, there's a good chance you've played with [Minesweeper](https://en.wikipedia.org/wiki/Minesweeper_(video_game). If you're not familiar with the game, imagine a grid of squares: some of these squares conceal a mine. If you click on a mine, you lose instantly. If you click on a safe square, you reveal a number telling you how many mines are found in the squares that are immediately adjacent. The aim of the game is to uncover all squares in the grid that do not contain a mine.\\n\",\n",
        "        \"\\n\",\n",
        "        \"In this section, we'll make a DataFrame that contains the necessary data for a game of Minesweeper: coordinates of the squares, whether the square contains a mine and the number of mines found on adjacent squares.\"\n",
        "      ]\n",
        "    },\n",
        "    {\n",
        "      \"cell_type\": \"markdown\",\n",
        "      \"metadata\": {\n",
        "        \"id\": \"jOTY2gMVYs2U\"\n",
        "      },\n",
        "      \"source\": [\n",
        "        \"**51**. Let's suppose we're playing Minesweeper on a 5 by 4 grid, i.e.\\n\",\n",
        "        \"```\\n\",\n",
        "        \"X = 5\\n\",\n",
        "        \"Y = 4\\n\",\n",
        "        \"```\\n\",\n",
        "        \"To begin, generate a DataFrame `df` with two columns, `'x'` and `'y'` containing every coordinate for this grid. That is, the DataFrame should start:\\n\",\n",
        "        \"```\\n\",\n",
        "        \"   x  y\\n\",\n",
        "        \"0  0  0\\n\",\n",
        "        \"1  0  1\\n\",\n",
        "        \"2  0  2\\n\",\n",
        "        \"```\"\n",
        "      ]\n",
        "    },\n",
        "    {\n",
        "      \"cell_type\": \"code\",\n",
        "      \"execution_count\": null,\n",
        "      \"metadata\": {\n",
        "        \"collapsed\": true,\n",
        "        \"id\": \"mudORm8IYs2U\"\n",
        "      },\n",
        "      \"outputs\": [],\n",
        "      \"source\": [\n",
        "        \"import pandas as pd\"\n",
        "      ]\n",
        "    },\n",
        "    {\n",
        "      \"cell_type\": \"markdown\",\n",
        "      \"metadata\": {\n",
        "        \"id\": \"8ZrHlJzTYs2U\"\n",
        "      },\n",
        "      \"source\": [\n",
        "        \"**52**. For this DataFrame `df`, create a new column of zeros (safe) and ones (mine). The probability of a mine occuring at each location should be 0.4.\"\n",
        "      ]\n",
        "    },\n",
        "    {\n",
        "      \"cell_type\": \"code\",\n",
        "      \"execution_count\": null,\n",
        "      \"metadata\": {\n",
        "        \"collapsed\": true,\n",
        "        \"id\": \"qp6UTwuSYs2U\"\n",
        "      },\n",
        "      \"outputs\": [],\n",
        "      \"source\": [\n",
        "        \"import pandas as pd\"\n",
        "      ]\n",
        "    },\n",
        "    {\n",
        "      \"cell_type\": \"markdown\",\n",
        "      \"metadata\": {\n",
        "        \"id\": \"Si1zmLV4Ys2U\"\n",
        "      },\n",
        "      \"source\": [\n",
        "        \"**53**. Now create a new column for this DataFrame called `'adjacent'`. This column should contain the number of mines found on adjacent squares in the grid. \\n\",\n",
        "        \"\\n\",\n",
        "        \"(E.g. for the first row, which is the entry for the coordinate `(0, 0)`, count how many mines are found on the coordinates `(0, 1)`, `(1, 0)` and `(1, 1)`.)\"\n",
        "      ]\n",
        "    },\n",
        "    {\n",
        "      \"cell_type\": \"code\",\n",
        "      \"execution_count\": null,\n",
        "      \"metadata\": {\n",
        "        \"collapsed\": true,\n",
        "        \"id\": \"3os0PBwsYs2U\"\n",
        "      },\n",
        "      \"outputs\": [],\n",
        "      \"source\": [\n",
        "        \"import pandas as pd\"\n",
        "      ]\n",
        "    },\n",
        "    {\n",
        "      \"cell_type\": \"markdown\",\n",
        "      \"metadata\": {\n",
        "        \"id\": \"89luNLTRYs2U\"\n",
        "      },\n",
        "      \"source\": [\n",
        "        \"**54**. For rows of the DataFrame that contain a mine, set the value in the `'adjacent'` column to NaN.\"\n",
        "      ]\n",
        "    },\n",
        "    {\n",
        "      \"cell_type\": \"code\",\n",
        "      \"execution_count\": null,\n",
        "      \"metadata\": {\n",
        "        \"collapsed\": true,\n",
        "        \"id\": \"7TpLLC4wYs2V\"\n",
        "      },\n",
        "      \"outputs\": [],\n",
        "      \"source\": [\n",
        "        \"import pandas as pd\"\n",
        "      ]\n",
        "    },\n",
        "    {\n",
        "      \"cell_type\": \"markdown\",\n",
        "      \"metadata\": {\n",
        "        \"id\": \"H6JTwefcYs2V\"\n",
        "      },\n",
        "      \"source\": [\n",
        "        \"**55**. Finally, convert the DataFrame to grid of the adjacent mine counts: columns are the `x` coordinate, rows are the `y` coordinate.\"\n",
        "      ]\n",
        "    },\n",
        "    {\n",
        "      \"cell_type\": \"code\",\n",
        "      \"execution_count\": null,\n",
        "      \"metadata\": {\n",
        "        \"collapsed\": true,\n",
        "        \"id\": \"Zn6KRrvLYs2V\"\n",
        "      },\n",
        "      \"outputs\": [],\n",
        "      \"source\": []\n",
        "    },\n",
        "    {\n",
        "      \"cell_type\": \"markdown\",\n",
        "      \"metadata\": {\n",
        "        \"id\": \"pJUakoKdYs2V\"\n",
        "      },\n",
        "      \"source\": [\n",
        "        \"## Plotting\\n\",\n",
        "        \"\\n\",\n",
        "        \"### Visualize trends and patterns in data\\n\",\n",
        "        \"\\n\",\n",
        "        \"Difficulty: *medium*\\n\",\n",
        "        \"\\n\",\n",
        "        \"To really get a good understanding of the data contained in your DataFrame, it is often essential to create plots: if you're lucky, trends and anomalies will jump right out at you. This functionality is baked into pandas and the puzzles below explore some of what's possible with the library.\\n\",\n",
        "        \"\\n\",\n",
        "        \"**56.** Pandas is highly integrated with the plotting library matplotlib, and makes plotting DataFrames very user-friendly! Plotting in a notebook environment usually makes use of the following boilerplate:\\n\",\n",
        "        \"\\n\",\n",
        "        \"```python\\n\",\n",
        "        \"import matplotlib.pyplot as plt\\n\",\n",
        "        \"%matplotlib inline\\n\",\n",
        "        \"plt.style.use('ggplot')\\n\",\n",
        "        \"```\\n\",\n",
        "        \"\\n\",\n",
        "        \"matplotlib is the plotting library which pandas' plotting functionality is built upon, and it is usually aliased to ```plt```.\\n\",\n",
        "        \"\\n\",\n",
        "        \"```%matplotlib inline``` tells the notebook to show plots inline, instead of creating them in a separate window.  \\n\",\n",
        "        \"\\n\",\n",
        "        \"```plt.style.use('ggplot')``` is a style theme that most people find agreeable, based upon the styling of R's ggplot package.\\n\",\n",
        "        \"\\n\",\n",
        "        \"For starters, make a scatter plot of this random data, but use black X's instead of the default markers. \\n\",\n",
        "        \"\\n\",\n",
        "        \"```df = pd.DataFrame({\\\"xs\\\":[1,5,2,8,1], \\\"ys\\\":[4,2,1,9,6]})```\\n\",\n",
        "        \"\\n\",\n",
        "        \"Consult the [documentation](https://pandas.pydata.org/pandas-docs/stable/generated/pandas.DataFrame.plot.html) if you get stuck!\"\n",
        "      ]\n",
        "    },\n",
        "    {\n",
        "      \"cell_type\": \"code\",\n",
        "      \"execution_count\": null,\n",
        "      \"metadata\": {\n",
        "        \"collapsed\": true,\n",
        "        \"id\": \"llzSTbgqYs2V\"\n",
        "      },\n",
        "      \"outputs\": [],\n",
        "      \"source\": []\n",
        "    },\n",
        "    {\n",
        "      \"cell_type\": \"markdown\",\n",
        "      \"metadata\": {\n",
        "        \"id\": \"OVFFQAWsYs2V\"\n",
        "      },\n",
        "      \"source\": [\n",
        "        \"**57.** Columns in your DataFrame can also be used to modify colors and sizes.  Bill has been keeping track of his performance at work over time, as well as how good he was feeling that day, and whether he had a cup of coffee in the morning.  Make a plot which incorporates all four features of this DataFrame.\\n\",\n",
        "        \"\\n\",\n",
        "        \"(Hint:  If you're having trouble seeing the plot, try multiplying the Series which you choose to represent size by 10 or more)\\n\",\n",
        "        \"\\n\",\n",
        "        \"*The chart doesn't have to be pretty: this isn't a course in data viz!*\\n\",\n",
        "        \"\\n\",\n",
        "        \"```\\n\",\n",
        "        \"df = pd.DataFrame({\\\"productivity\\\":[5,2,3,1,4,5,6,7,8,3,4,8,9],\\n\",\n",
        "        \"                   \\\"hours_in\\\"    :[1,9,6,5,3,9,2,9,1,7,4,2,2],\\n\",\n",
        "        \"                   \\\"happiness\\\"   :[2,1,3,2,3,1,2,3,1,2,2,1,3],\\n\",\n",
        "        \"                   \\\"caffienated\\\" :[0,0,1,1,0,0,0,0,1,1,0,1,0]})\\n\",\n",
        "        \"```\"\n",
        "      ]\n",
        "    },\n",
        "    {\n",
        "      \"cell_type\": \"code\",\n",
        "      \"execution_count\": null,\n",
        "      \"metadata\": {\n",
        "        \"collapsed\": true,\n",
        "        \"id\": \"EF3j41VzYs2V\"\n",
        "      },\n",
        "      \"outputs\": [],\n",
        "      \"source\": [\n",
        "        \"import pandas as pd\"\n",
        "      ]\n",
        "    },\n",
        "    {\n",
        "      \"cell_type\": \"markdown\",\n",
        "      \"metadata\": {\n",
        "        \"id\": \"ppI5nGFqYs2V\"\n",
        "      },\n",
        "      \"source\": [\n",
        "        \"**58.**  What if we want to plot multiple things?  Pandas allows you to pass in a matplotlib *Axis* object for plots, and plots will also return an Axis object.\\n\",\n",
        "        \"\\n\",\n",
        "        \"Make a bar plot of monthly revenue with a line plot of monthly advertising spending (numbers in millions)\\n\",\n",
        "        \"\\n\",\n",
        "        \"```\\n\",\n",
        "        \"df = pd.DataFrame({\\\"revenue\\\":[57,68,63,71,72,90,80,62,59,51,47,52],\\n\",\n",
        "        \"                   \\\"advertising\\\":[2.1,1.9,2.7,3.0,3.6,3.2,2.7,2.4,1.8,1.6,1.3,1.9],\\n\",\n",
        "        \"                   \\\"month\\\":range(12)\\n\",\n",
        "        \"                  })\\n\",\n",
        "        \"```\"\n",
        "      ]\n",
        "    },\n",
        "    {\n",
        "      \"cell_type\": \"code\",\n",
        "      \"execution_count\": null,\n",
        "      \"metadata\": {\n",
        "        \"collapsed\": true,\n",
        "        \"id\": \"_mXaiG3lYs2V\"\n",
        "      },\n",
        "      \"outputs\": [],\n",
        "      \"source\": []\n",
        "    },\n",
        "    {\n",
        "      \"cell_type\": \"markdown\",\n",
        "      \"metadata\": {\n",
        "        \"id\": \"KpWZkeO7Ys2V\"\n",
        "      },\n",
        "      \"source\": [\n",
        "        \"Now we're finally ready to create a candlestick chart, which is a very common tool used to analyze stock price data.  A candlestick chart shows the opening, closing, highest, and lowest price for a stock during a time window.  The color of the \\\"candle\\\" (the thick part of the bar) is green if the stock closed above its opening price, or red if below.\\n\",\n",
        "        \"\\n\",\n",
        "        \"![Candlestick Example](img/candle.jpg)\\n\",\n",
        "        \"\\n\",\n",
        "        \"This was initially designed to be a pandas plotting challenge, but it just so happens that this type of plot is just not feasible using pandas' methods.  If you are unfamiliar with matplotlib, we have provided a function that will plot the chart for you so long as you can use pandas to get the data into the correct format.\\n\",\n",
        "        \"\\n\",\n",
        "        \"Your first step should be to get the data in the correct format using pandas' time-series grouping function.  We would like each candle to represent an hour's worth of data.  You can write your own aggregation function which returns the open/high/low/close, but pandas has a built-in which also does this.\"\n",
        "      ]\n",
        "    },\n",
        "    {\n",
        "      \"cell_type\": \"markdown\",\n",
        "      \"metadata\": {\n",
        "        \"id\": \"QU0BY5WTYs2W\"\n",
        "      },\n",
        "      \"source\": [\n",
        "        \"The below cell contains helper functions.  Call ```day_stock_data()``` to generate a DataFrame containing the prices a hypothetical stock sold for, and the time the sale occurred.  Call ```plot_candlestick(df)``` on your properly aggregated and formatted stock data to print the candlestick chart.\"\n",
        "      ]\n",
        "    },\n",
        "    {\n",
        "      \"cell_type\": \"code\",\n",
        "      \"execution_count\": null,\n",
        "      \"metadata\": {\n",
        "        \"collapsed\": true,\n",
        "        \"id\": \"vguEmz_IYs2W\"\n",
        "      },\n",
        "      \"outputs\": [],\n",
        "      \"source\": [\n",
        "        \"import numpy as np\\n\",\n",
        "        \"def float_to_time(x):\\n\",\n",
        "        \"    return str(int(x)) + \\\":\\\" + str(int(x%1 * 60)).zfill(2) + \\\":\\\" + str(int(x*60 % 1 * 60)).zfill(2)\\n\",\n",
        "        \"\\n\",\n",
        "        \"def day_stock_data():\\n\",\n",
        "        \"    #NYSE is open from 9:30 to 4:00\\n\",\n",
        "        \"    time = 9.5\\n\",\n",
        "        \"    price = 100\\n\",\n",
        "        \"    results = [(float_to_time(time), price)]\\n\",\n",
        "        \"    while time < 16:\\n\",\n",
        "        \"        elapsed = np.random.exponential(.001)\\n\",\n",
        "        \"        time += elapsed\\n\",\n",
        "        \"        if time > 16:\\n\",\n",
        "        \"            break\\n\",\n",
        "        \"        price_diff = np.random.uniform(.999, 1.001)\\n\",\n",
        "        \"        price *= price_diff\\n\",\n",
        "        \"        results.append((float_to_time(time), price))\\n\",\n",
        "        \"    \\n\",\n",
        "        \"    \\n\",\n",
        "        \"    df = pd.DataFrame(results, columns = ['time','price'])\\n\",\n",
        "        \"    df.time = pd.to_datetime(df.time)\\n\",\n",
        "        \"    return df\\n\",\n",
        "        \"\\n\",\n",
        "        \"#Don't read me unless you get stuck!\\n\",\n",
        "        \"def plot_candlestick(agg):\\n\",\n",
        "        \"    \\\"\\\"\\\"\\n\",\n",
        "        \"    agg is a DataFrame which has a DatetimeIndex and five columns: [\\\"open\\\",\\\"high\\\",\\\"low\\\",\\\"close\\\",\\\"color\\\"]\\n\",\n",
        "        \"    \\\"\\\"\\\"\\n\",\n",
        "        \"    fig, ax = plt.subplots()\\n\",\n",
        "        \"    for time in agg.index:\\n\",\n",
        "        \"        ax.plot([time.hour] * 2, agg.loc[time, [\\\"high\\\",\\\"low\\\"]].values, color = \\\"black\\\")\\n\",\n",
        "        \"        ax.plot([time.hour] * 2, agg.loc[time, [\\\"open\\\",\\\"close\\\"]].values, color = agg.loc[time, \\\"color\\\"], linewidth = 10)\\n\",\n",
        "        \"\\n\",\n",
        "        \"    ax.set_xlim((8,16))\\n\",\n",
        "        \"    ax.set_ylabel(\\\"Price\\\")\\n\",\n",
        "        \"    ax.set_xlabel(\\\"Hour\\\")\\n\",\n",
        "        \"    ax.set_title(\\\"OHLC of Stock Value During Trading Day\\\")\\n\",\n",
        "        \"    plt.show()\"\n",
        "      ]\n",
        "    },\n",
        "    {\n",
        "      \"cell_type\": \"markdown\",\n",
        "      \"metadata\": {\n",
        "        \"id\": \"r6mpgGYcYs2W\"\n",
        "      },\n",
        "      \"source\": [\n",
        "        \"**59.** Generate a day's worth of random stock data, and aggregate / reformat it so that it has hourly summaries of the opening, highest, lowest, and closing prices\"\n",
        "      ]\n",
        "    },\n",
        "    {\n",
        "      \"cell_type\": \"code\",\n",
        "      \"execution_count\": null,\n",
        "      \"metadata\": {\n",
        "        \"collapsed\": true,\n",
        "        \"id\": \"uUt-eB2tYs2W\"\n",
        "      },\n",
        "      \"outputs\": [],\n",
        "      \"source\": [\n",
        "        \"import pandas as pd\"\n",
        "      ]\n",
        "    },\n",
        "    {\n",
        "      \"cell_type\": \"markdown\",\n",
        "      \"metadata\": {\n",
        "        \"id\": \"a5XEH6nvYs2W\"\n",
        "      },\n",
        "      \"source\": [\n",
        "        \"**60.** Now that you have your properly-formatted data, try to plot it yourself as a candlestick chart.  Use the ```plot_candlestick(df)``` function above, or matplotlib's [```plot``` documentation](https://matplotlib.org/api/_as_gen/matplotlib.axes.Axes.plot.html) if you get stuck.\"\n",
        "      ]\n",
        "    },\n",
        "    {\n",
        "      \"cell_type\": \"code\",\n",
        "      \"execution_count\": null,\n",
        "      \"metadata\": {\n",
        "        \"collapsed\": true,\n",
        "        \"id\": \"aYq9n74XYs2X\"\n",
        "      },\n",
        "      \"outputs\": [],\n",
        "      \"source\": [\n",
        "        \"import pandas as pd\"\n",
        "      ]\n",
        "    },\n",
        "    {\n",
        "      \"cell_type\": \"markdown\",\n",
        "      \"metadata\": {\n",
        "        \"id\": \"okLgp95MYs2X\"\n",
        "      },\n",
        "      \"source\": []\n",
        "    }\n",
        "  ],\n",
        "  \"metadata\": {\n",
        "    \"kernelspec\": {\n",
        "      \"display_name\": \"Python 3\",\n",
        "      \"language\": \"python\",\n",
        "      \"name\": \"python3\"\n",
        "    },\n",
        "    \"language_info\": {\n",
        "      \"codemirror_mode\": {\n",
        "        \"name\": \"ipython\",\n",
        "        \"version\": 3\n",
        "      },\n",
        "      \"file_extension\": \".py\",\n",
        "      \"mimetype\": \"text/x-python\",\n",
        "      \"name\": \"python\",\n",
        "      \"nbconvert_exporter\": \"python\",\n",
        "      \"pygments_lexer\": \"ipython3\",\n",
        "      \"version\": \"3.8.3\"\n",
        "    },\n",
        "    \"colab\": {\n",
        "      \"provenance\": [],\n",
        "      \"include_colab_link\": true\n",
        "    }\n",
        "  },\n",
        "  \"nbformat\": 4,\n",
        "  \"nbformat_minor\": 0\n",
        "}"
      ]
    },
    {
      "cell_type": "markdown",
      "metadata": {
        "id": "blX8NTaSYs2J"
      },
      "source": [
        "**3.** Print out all the version information of the libraries that are required by the pandas library."
      ]
    },
    {
      "cell_type": "code",
      "execution_count": 1,
      "metadata": {
        "collapsed": true,
        "id": "uhYhMfM6Ys2J"
      },
      "outputs": [],
      "source": [
        "import numpy as np"
      ]
    },
    {
      "cell_type": "markdown",
      "metadata": {
        "id": "rkZdbNpZYs2J"
      },
      "source": [
        "## DataFrame basics\n",
        "\n",
        "### A few of the fundamental routines for selecting, sorting, adding and aggregating data in DataFrames\n",
        "\n",
        "Difficulty: *easy*\n",
        "\n",
        "Note: remember to import numpy using:\n",
        "```python\n",
        "import numpy as np\n",
        "```\n",
        "\n",
        "Consider the following Python dictionary `data` and Python list `labels`:\n",
        "\n",
        "``` python\n",
        "data = {'animal': ['cat', 'cat', 'snake', 'dog', 'dog', 'cat', 'snake', 'cat', 'dog', 'dog'],\n",
        "        'age': [2.5, 3, 0.5, np.nan, 5, 2, 4.5, np.nan, 7, 3],\n",
        "        'visits': [1, 3, 2, 3, 2, 3, 1, 1, 2, 1],\n",
        "        'priority': ['yes', 'yes', 'no', 'yes', 'no', 'no', 'no', 'yes', 'no', 'no']}\n",
        "\n",
        "labels = ['a', 'b', 'c', 'd', 'e', 'f', 'g', 'h', 'i', 'j']\n",
        "```\n",
        "(This is just some meaningless data I made up with the theme of animals and trips to a vet.)\n",
        "\n",
        "**4.** Create a DataFrame `df` from this dictionary `data` which has the index `labels`."
      ]
    },
    {
      "cell_type": "code",
      "execution_count": null,
      "metadata": {
        "collapsed": true,
        "id": "ABe6ufJ2Ys2K",
        "outputId": "5363a426-00da-447a-b5c4-c9f2b4e06a61",
        "colab": {
          "base_uri": "https://localhost:8080/"
        }
      },
      "outputs": [
        {
          "output_type": "stream",
          "name": "stdout",
          "text": [
            "1\n"
          ]
        }
      ],
      "source": [
        "numbers = [2, 4, 6, 8, 1]\n",
        "\n",
        "for number in numbers:\n",
        "    if number % 2 == 1:\n",
        "        print(number)\n",
        "        break\n",
        "else:\n",
        "    print(\"No odd numbers\")"
      ]
    },
    {
      "cell_type": "markdown",
      "metadata": {
        "id": "imtuYOa5Ys2K"
      },
      "source": [
        "**5.** Display a summary of the basic information about this DataFrame and its data."
      ]
    },
    {
      "cell_type": "code",
      "execution_count": null,
      "metadata": {
        "collapsed": true,
        "id": "FKTf8I2PYs2K"
      },
      "outputs": [],
      "source": [
        "import pandas as pd\n",
        "import numpy as np"
      ]
    },
    {
      "cell_type": "markdown",
      "metadata": {
        "id": "HtnaDWRzYs2K"
      },
      "source": [
        "**6.** Return the first 3 rows of the DataFrame `df`."
      ]
    },
    {
      "cell_type": "code",
      "execution_count": null,
      "metadata": {
        "collapsed": true,
        "id": "5ZOtYbzRYs2L",
        "outputId": "1ec19589-d4e3-4323-eee2-2454b1f1c0a9",
        "colab": {
          "base_uri": "https://localhost:8080/",
          "height": 300
        }
      },
      "outputs": [
        {
          "output_type": "execute_result",
          "data": {
            "text/plain": [
              "     Name  Marks Status\n",
              "0     Tom      9   Fail\n",
              "1    Jack     19   Pass\n",
              "2    Lucy     20   Pass\n",
              "3     Bob     17   Pass\n",
              "4   Jerry     11   Pass\n",
              "5   Alice     18   Pass\n",
              "6  Thomas      5   Fail\n",
              "7  Barbie      8   Fail"
            ],
            "text/html": [
              "\n",
              "  <div id=\"df-f78e37a7-a1d0-4485-8e7f-f0e6233ab8f3\">\n",
              "    <div class=\"colab-df-container\">\n",
              "      <div>\n",
              "<style scoped>\n",
              "    .dataframe tbody tr th:only-of-type {\n",
              "        vertical-align: middle;\n",
              "    }\n",
              "\n",
              "    .dataframe tbody tr th {\n",
              "        vertical-align: top;\n",
              "    }\n",
              "\n",
              "    .dataframe thead th {\n",
              "        text-align: right;\n",
              "    }\n",
              "</style>\n",
              "<table border=\"1\" class=\"dataframe\">\n",
              "  <thead>\n",
              "    <tr style=\"text-align: right;\">\n",
              "      <th></th>\n",
              "      <th>Name</th>\n",
              "      <th>Marks</th>\n",
              "      <th>Status</th>\n",
              "    </tr>\n",
              "  </thead>\n",
              "  <tbody>\n",
              "    <tr>\n",
              "      <th>0</th>\n",
              "      <td>Tom</td>\n",
              "      <td>9</td>\n",
              "      <td>Fail</td>\n",
              "    </tr>\n",
              "    <tr>\n",
              "      <th>1</th>\n",
              "      <td>Jack</td>\n",
              "      <td>19</td>\n",
              "      <td>Pass</td>\n",
              "    </tr>\n",
              "    <tr>\n",
              "      <th>2</th>\n",
              "      <td>Lucy</td>\n",
              "      <td>20</td>\n",
              "      <td>Pass</td>\n",
              "    </tr>\n",
              "    <tr>\n",
              "      <th>3</th>\n",
              "      <td>Bob</td>\n",
              "      <td>17</td>\n",
              "      <td>Pass</td>\n",
              "    </tr>\n",
              "    <tr>\n",
              "      <th>4</th>\n",
              "      <td>Jerry</td>\n",
              "      <td>11</td>\n",
              "      <td>Pass</td>\n",
              "    </tr>\n",
              "    <tr>\n",
              "      <th>5</th>\n",
              "      <td>Alice</td>\n",
              "      <td>18</td>\n",
              "      <td>Pass</td>\n",
              "    </tr>\n",
              "    <tr>\n",
              "      <th>6</th>\n",
              "      <td>Thomas</td>\n",
              "      <td>5</td>\n",
              "      <td>Fail</td>\n",
              "    </tr>\n",
              "    <tr>\n",
              "      <th>7</th>\n",
              "      <td>Barbie</td>\n",
              "      <td>8</td>\n",
              "      <td>Fail</td>\n",
              "    </tr>\n",
              "  </tbody>\n",
              "</table>\n",
              "</div>\n",
              "      <button class=\"colab-df-convert\" onclick=\"convertToInteractive('df-f78e37a7-a1d0-4485-8e7f-f0e6233ab8f3')\"\n",
              "              title=\"Convert this dataframe to an interactive table.\"\n",
              "              style=\"display:none;\">\n",
              "        \n",
              "  <svg xmlns=\"http://www.w3.org/2000/svg\" height=\"24px\"viewBox=\"0 0 24 24\"\n",
              "       width=\"24px\">\n",
              "    <path d=\"M0 0h24v24H0V0z\" fill=\"none\"/>\n",
              "    <path d=\"M18.56 5.44l.94 2.06.94-2.06 2.06-.94-2.06-.94-.94-2.06-.94 2.06-2.06.94zm-11 1L8.5 8.5l.94-2.06 2.06-.94-2.06-.94L8.5 2.5l-.94 2.06-2.06.94zm10 10l.94 2.06.94-2.06 2.06-.94-2.06-.94-.94-2.06-.94 2.06-2.06.94z\"/><path d=\"M17.41 7.96l-1.37-1.37c-.4-.4-.92-.59-1.43-.59-.52 0-1.04.2-1.43.59L10.3 9.45l-7.72 7.72c-.78.78-.78 2.05 0 2.83L4 21.41c.39.39.9.59 1.41.59.51 0 1.02-.2 1.41-.59l7.78-7.78 2.81-2.81c.8-.78.8-2.07 0-2.86zM5.41 20L4 18.59l7.72-7.72 1.47 1.35L5.41 20z\"/>\n",
              "  </svg>\n",
              "      </button>\n",
              "      \n",
              "  <style>\n",
              "    .colab-df-container {\n",
              "      display:flex;\n",
              "      flex-wrap:wrap;\n",
              "      gap: 12px;\n",
              "    }\n",
              "\n",
              "    .colab-df-convert {\n",
              "      background-color: #E8F0FE;\n",
              "      border: none;\n",
              "      border-radius: 50%;\n",
              "      cursor: pointer;\n",
              "      display: none;\n",
              "      fill: #1967D2;\n",
              "      height: 32px;\n",
              "      padding: 0 0 0 0;\n",
              "      width: 32px;\n",
              "    }\n",
              "\n",
              "    .colab-df-convert:hover {\n",
              "      background-color: #E2EBFA;\n",
              "      box-shadow: 0px 1px 2px rgba(60, 64, 67, 0.3), 0px 1px 3px 1px rgba(60, 64, 67, 0.15);\n",
              "      fill: #174EA6;\n",
              "    }\n",
              "\n",
              "    [theme=dark] .colab-df-convert {\n",
              "      background-color: #3B4455;\n",
              "      fill: #D2E3FC;\n",
              "    }\n",
              "\n",
              "    [theme=dark] .colab-df-convert:hover {\n",
              "      background-color: #434B5C;\n",
              "      box-shadow: 0px 1px 3px 1px rgba(0, 0, 0, 0.15);\n",
              "      filter: drop-shadow(0px 1px 2px rgba(0, 0, 0, 0.3));\n",
              "      fill: #FFFFFF;\n",
              "    }\n",
              "  </style>\n",
              "\n",
              "      <script>\n",
              "        const buttonEl =\n",
              "          document.querySelector('#df-f78e37a7-a1d0-4485-8e7f-f0e6233ab8f3 button.colab-df-convert');\n",
              "        buttonEl.style.display =\n",
              "          google.colab.kernel.accessAllowed ? 'block' : 'none';\n",
              "\n",
              "        async function convertToInteractive(key) {\n",
              "          const element = document.querySelector('#df-f78e37a7-a1d0-4485-8e7f-f0e6233ab8f3');\n",
              "          const dataTable =\n",
              "            await google.colab.kernel.invokeFunction('convertToInteractive',\n",
              "                                                     [key], {});\n",
              "          if (!dataTable) return;\n",
              "\n",
              "          const docLinkHtml = 'Like what you see? Visit the ' +\n",
              "            '<a target=\"_blank\" href=https://colab.research.google.com/notebooks/data_table.ipynb>data table notebook</a>'\n",
              "            + ' to learn more about interactive tables.';\n",
              "          element.innerHTML = '';\n",
              "          dataTable['output_type'] = 'display_data';\n",
              "          await google.colab.output.renderOutput(dataTable, element);\n",
              "          const docLink = document.createElement('div');\n",
              "          docLink.innerHTML = docLinkHtml;\n",
              "          element.appendChild(docLink);\n",
              "        }\n",
              "      </script>\n",
              "    </div>\n",
              "  </div>\n",
              "  "
            ]
          },
          "metadata": {},
          "execution_count": 7
        }
      ],
      "source": [
        "import pandas as pd\n",
        "  \n",
        "# dictionary\n",
        "record = {\n",
        "  \"Name\": [\"Tom\", \"Jack\", \"Lucy\",\n",
        "           \"Bob\", \"Jerry\", \"Alice\",\n",
        "           \"Thomas\", \"Barbie\"],\n",
        "    \n",
        "   \"Marks\": [9, 19, 20, \n",
        "             17, 11, 18,\n",
        "             5, 8], \n",
        "    \n",
        "  \"Status\": [\"Fail\", \"Pass\", \"Pass\",\n",
        "             \"Pass\",\"Pass\", \"Pass\",\n",
        "             \"Fail\", \"Fail\"]}\n",
        "  \n",
        "# converting record into\n",
        "# pandas dataframe\n",
        "df = pd.DataFrame(record)\n",
        "  \n",
        "# printing whole dataframe\n",
        "df"
      ]
    },
    {
      "cell_type": "markdown",
      "metadata": {
        "id": "BIdr-n1lYs2L"
      },
      "source": [
        "**7.** Select just the 'animal' and 'age' columns from the DataFrame `df`."
      ]
    },
    {
      "cell_type": "code",
      "execution_count": null,
      "metadata": {
        "collapsed": true,
        "id": "f0auimfaYs2L"
      },
      "outputs": [],
      "source": [
        "import pandas as pd\n",
        "import numpy as np"
      ]
    },
    {
      "cell_type": "markdown",
      "metadata": {
        "id": "9AI39hgGYs2L"
      },
      "source": [
        "**8.** Select the data in rows `[3, 4, 8]` *and* in columns `['animal', 'age']`."
      ]
    },
    {
      "cell_type": "code",
      "execution_count": null,
      "metadata": {
        "collapsed": true,
        "id": "D2saTtYUYs2L"
      },
      "outputs": [],
      "source": [
        "import pandas as pd\n",
        "import numpy as np\n"
      ]
    },
    {
      "cell_type": "markdown",
      "metadata": {
        "id": "uonhpbfZYs2L"
      },
      "source": [
        "**9.** Select only the rows where the number of visits is greater than 3."
      ]
    },
    {
      "cell_type": "code",
      "execution_count": null,
      "metadata": {
        "collapsed": true,
        "id": "qnWgGw6hYs2L"
      },
      "outputs": [],
      "source": [
        "import pandas as pd\n",
        "import numpy as np"
      ]
    },
    {
      "cell_type": "markdown",
      "metadata": {
        "id": "u-lgbiPZYs2M"
      },
      "source": [
        "**10.** Select the rows where the age is missing, i.e. is `NaN`."
      ]
    },
    {
      "cell_type": "code",
      "execution_count": null,
      "metadata": {
        "collapsed": true,
        "id": "n0cIN4-jYs2M"
      },
      "outputs": [],
      "source": [
        "import pandas as pd\n",
        "import numpy as np"
      ]
    },
    {
      "cell_type": "markdown",
      "metadata": {
        "id": "tkywvZwbYs2M"
      },
      "source": [
        "**11.** Select the rows where the animal is a cat *and* the age is less than 3."
      ]
    },
    {
      "cell_type": "code",
      "execution_count": null,
      "metadata": {
        "collapsed": true,
        "id": "J_0Ny5D8Ys2M"
      },
      "outputs": [],
      "source": [
        "import pandas as pd\n",
        "import numpy as np"
      ]
    },
    {
      "cell_type": "markdown",
      "metadata": {
        "id": "ZHPI4yrAYs2M"
      },
      "source": [
        "**12.** Select the rows the age is between 2 and 4 (inclusive)."
      ]
    },
    {
      "cell_type": "code",
      "execution_count": null,
      "metadata": {
        "collapsed": true,
        "id": "7RYVg9M-Ys2M"
      },
      "outputs": [],
      "source": [
        "import pandas as pd\n",
        "import numpy as np"
      ]
    },
    {
      "cell_type": "markdown",
      "metadata": {
        "id": "66Xv43xaYs2M"
      },
      "source": [
        "**13.** Change the age in row 'f' to 1.5."
      ]
    },
    {
      "cell_type": "code",
      "execution_count": null,
      "metadata": {
        "collapsed": true,
        "id": "SmHJvRPrYs2M"
      },
      "outputs": [],
      "source": [
        "import pandas as pd\n",
        "import numpy as np"
      ]
    },
    {
      "cell_type": "markdown",
      "metadata": {
        "id": "PaziTKo5Ys2M"
      },
      "source": [
        "**14.** Calculate the sum of all visits (the total number of visits)."
      ]
    },
    {
      "cell_type": "code",
      "execution_count": null,
      "metadata": {
        "collapsed": true,
        "id": "uKNoHcHdYs2M"
      },
      "outputs": [],
      "source": [
        "import pandas as pd\n",
        "import numpy as np"
      ]
    },
    {
      "cell_type": "markdown",
      "metadata": {
        "id": "vcA4yNkzYs2M"
      },
      "source": [
        "**15.** Calculate the mean age for each different animal in `df`."
      ]
    },
    {
      "cell_type": "code",
      "execution_count": null,
      "metadata": {
        "collapsed": true,
        "id": "WJ0ncXnkYs2N"
      },
      "outputs": [],
      "source": [
        "import pandas as pd\n",
        "import numpy as np"
      ]
    },
    {
      "cell_type": "markdown",
      "metadata": {
        "id": "PlSfDhv3Ys2N"
      },
      "source": [
        "**16.** Append a new row 'k' to `df` with your choice of values for each column. Then delete that row to return the original DataFrame."
      ]
    },
    {
      "cell_type": "code",
      "execution_count": null,
      "metadata": {
        "collapsed": true,
        "id": "44_cDhQ4Ys2N"
      },
      "outputs": [],
      "source": [
        "import pandas as pd\n",
        "import numpy as np"
      ]
    },
    {
      "cell_type": "markdown",
      "metadata": {
        "id": "PLmVpy4JYs2N"
      },
      "source": [
        "**17.** Count the number of each type of animal in `df`."
      ]
    },
    {
      "cell_type": "code",
      "execution_count": null,
      "metadata": {
        "collapsed": true,
        "id": "smtNDY5yYs2N"
      },
      "outputs": [],
      "source": [
        "import pandas as pd\n",
        "import numpy as np"
      ]
    },
    {
      "cell_type": "markdown",
      "metadata": {
        "id": "z17CaYm8Ys2N"
      },
      "source": [
        "**18.** Sort `df` first by the values in the 'age' in *decending* order, then by the value in the 'visit' column in *ascending* order."
      ]
    },
    {
      "cell_type": "code",
      "execution_count": null,
      "metadata": {
        "collapsed": true,
        "id": "6GExcnEWYs2N"
      },
      "outputs": [],
      "source": [
        "import pandas as pd\n",
        "import numpy as np"
      ]
    },
    {
      "cell_type": "markdown",
      "metadata": {
        "id": "kwfXC8ZAYs2N"
      },
      "source": [
        "**19.** The 'priority' column contains the values 'yes' and 'no'. Replace this column with a column of boolean values: 'yes' should be `True` and 'no' should be `False`."
      ]
    },
    {
      "cell_type": "code",
      "execution_count": null,
      "metadata": {
        "collapsed": true,
        "id": "Id8XL8i4Ys2N"
      },
      "outputs": [],
      "source": [
        "import pandas as pd\n",
        "import numpy as np"
      ]
    },
    {
      "cell_type": "markdown",
      "metadata": {
        "id": "o3u59DtBYs2N"
      },
      "source": [
        "**20.** In the 'animal' column, change the 'snake' entries to 'python'."
      ]
    },
    {
      "cell_type": "code",
      "execution_count": null,
      "metadata": {
        "collapsed": true,
        "id": "ZpFBGWS2Ys2N"
      },
      "outputs": [],
      "source": [
        "import pandas as pd\n",
        "import numpy as np"
      ]
    },
    {
      "cell_type": "markdown",
      "metadata": {
        "id": "uYooZoxDYs2O"
      },
      "source": [
        "**21.** For each animal type and each number of visits, find the mean age. In other words, each row is an animal, each column is a number of visits and the values are the mean ages (hint: use a pivot table)."
      ]
    },
    {
      "cell_type": "code",
      "execution_count": null,
      "metadata": {
        "collapsed": true,
        "id": "HITbuTdCYs2O"
      },
      "outputs": [],
      "source": [
        "import pandas as pd\n",
        "import numpy as np"
      ]
    },
    {
      "cell_type": "markdown",
      "metadata": {
        "id": "jnSEJONIYs2O"
      },
      "source": [
        "## DataFrames: beyond the basics\n",
        "\n",
        "### Slightly trickier: you may need to combine two or more methods to get the right answer\n",
        "\n",
        "Difficulty: *medium*\n",
        "\n",
        "The previous section was tour through some basic but essential DataFrame operations. Below are some ways that you might need to cut your data, but for which there is no single \"out of the box\" method."
      ]
    },
    {
      "cell_type": "markdown",
      "metadata": {
        "id": "Cn8neD9VYs2O"
      },
      "source": [
        "**22.** You have a DataFrame `df` with a column 'A' of integers. For example:\n",
        "```python\n",
        "df = pd.DataFrame({'A': [1, 2, 2, 3, 4, 5, 5, 5, 6, 7, 7]})\n",
        "```\n",
        "\n",
        "How do you filter out rows which contain the same integer as the row immediately above?"
      ]
    },
    {
      "cell_type": "code",
      "execution_count": null,
      "metadata": {
        "collapsed": true,
        "id": "FnzVk4RhYs2O"
      },
      "outputs": [],
      "source": [
        "import pandas as pd\n",
        "import numpy as np"
      ]
    },
    {
      "cell_type": "markdown",
      "metadata": {
        "id": "HFZ9pCGvYs2O"
      },
      "source": [
        "**23.** Given a DataFrame of numeric values, say\n",
        "```python\n",
        "df = pd.DataFrame(np.random.random(size=(5, 3))) # a 5x3 frame of float values\n",
        "```\n",
        "\n",
        "how do you subtract the row mean from each element in the row?"
      ]
    },
    {
      "cell_type": "code",
      "execution_count": null,
      "metadata": {
        "collapsed": true,
        "id": "ePnlpEsXYs2O"
      },
      "outputs": [],
      "source": [
        "import pandas as pd\n",
        "import numpy as np"
      ]
    },
    {
      "cell_type": "markdown",
      "metadata": {
        "id": "ru9176zBYs2O"
      },
      "source": [
        "**24.** Suppose you have DataFrame with 10 columns of real numbers, for example:\n",
        "\n",
        "```python\n",
        "df = pd.DataFrame(np.random.random(size=(5, 10)), columns=list('abcdefghij'))\n",
        "```\n",
        "Which column of numbers has the smallest sum? (Find that column's label.)"
      ]
    },
    {
      "cell_type": "code",
      "execution_count": null,
      "metadata": {
        "collapsed": true,
        "id": "zBFsjGBwYs2O"
      },
      "outputs": [],
      "source": [
        "import pandas as pd\n",
        "import numpy as np"
      ]
    },
    {
      "cell_type": "markdown",
      "metadata": {
        "id": "z1GX4hooYs2O"
      },
      "source": [
        "**25.** How do you count how many unique rows a DataFrame has (i.e. ignore all rows that are duplicates)?"
      ]
    },
    {
      "cell_type": "code",
      "execution_count": null,
      "metadata": {
        "collapsed": true,
        "id": "BT25RYiLYs2O"
      },
      "outputs": [],
      "source": [
        "import pandas as pd\n",
        "import numpy as np"
      ]
    },
    {
      "cell_type": "markdown",
      "metadata": {
        "id": "xPZxfvuEYs2P"
      },
      "source": [
        "The next three puzzles are slightly harder...\n",
        "\n",
        "**26.** You have a DataFrame that consists of 10 columns of floating--point numbers. Suppose that exactly 5 entries in each row are NaN values. For each row of the DataFrame, find the *column* which contains the *third* NaN value.\n",
        "\n",
        "(You should return a Series of column labels.)"
      ]
    },
    {
      "cell_type": "code",
      "execution_count": null,
      "metadata": {
        "collapsed": true,
        "id": "kGmLhXMMYs2P"
      },
      "outputs": [],
      "source": [
        "import pandas as pd\n",
        "import numpy as np"
      ]
    },
    {
      "cell_type": "markdown",
      "metadata": {
        "id": "GZI7iZNNYs2P"
      },
      "source": [
        "**27.** A DataFrame has a column of groups 'grps' and and column of numbers 'vals'. For example: \n",
        "\n",
        "```python\n",
        "df = pd.DataFrame({'grps': list('aaabbcaabcccbbc'), \n",
        "                   'vals': [12,345,3,1,45,14,4,52,54,23,235,21,57,3,87]})\n",
        "```\n",
        "For each *group*, find the sum of the three greatest values."
      ]
    },
    {
      "cell_type": "code",
      "execution_count": null,
      "metadata": {
        "collapsed": true,
        "id": "v89jCT-SYs2P"
      },
      "outputs": [],
      "source": [
        "import pandas as pd\n",
        "import numpy as np"
      ]
    },
    {
      "cell_type": "markdown",
      "metadata": {
        "id": "0zzesArlYs2P"
      },
      "source": [
        "**28.** A DataFrame has two integer columns 'A' and 'B'. The values in 'A' are between 1 and 100 (inclusive). For each group of 10 consecutive integers in 'A' (i.e. `(0, 10]`, `(10, 20]`, ...), calculate the sum of the corresponding values in column 'B'."
      ]
    },
    {
      "cell_type": "code",
      "execution_count": null,
      "metadata": {
        "collapsed": true,
        "id": "Fw7aK7VEYs2P"
      },
      "outputs": [],
      "source": [
        "import pandas as pd\n",
        "import numpy as np"
      ]
    },
    {
      "cell_type": "markdown",
      "metadata": {
        "id": "sFNvArYtYs2P"
      },
      "source": [
        "## DataFrames: harder problems \n",
        "\n",
        "### These might require a bit of thinking outside the box...\n",
        "\n",
        "...but all are solvable using just the usual pandas/NumPy methods (and so avoid using explicit `for` loops).\n",
        "\n",
        "Difficulty: *hard*"
      ]
    },
    {
      "cell_type": "markdown",
      "metadata": {
        "id": "kpgPOrUfYs2P"
      },
      "source": [
        "**29.** Consider a DataFrame `df` where there is an integer column 'X':\n",
        "```python\n",
        "df = pd.DataFrame({'X': [7, 2, 0, 3, 4, 2, 5, 0, 3, 4]})\n",
        "```\n",
        "For each value, count the difference back to the previous zero (or the start of the Series, whichever is closer). These values should therefore be `[1, 2, 0, 1, 2, 3, 4, 0, 1, 2]`. Make this a new column 'Y'."
      ]
    },
    {
      "cell_type": "code",
      "execution_count": null,
      "metadata": {
        "collapsed": true,
        "id": "lJxpZ75lYs2Q"
      },
      "outputs": [],
      "source": [
        "import pandas as pd\n",
        "import numpy as np"
      ]
    },
    {
      "cell_type": "markdown",
      "metadata": {
        "id": "9QFcKoxSYs2Q"
      },
      "source": [
        "Here's an alternative approach based on a [cookbook recipe](http://pandas.pydata.org/pandas-docs/stable/cookbook.html#grouping):"
      ]
    },
    {
      "cell_type": "code",
      "execution_count": null,
      "metadata": {
        "collapsed": true,
        "id": "rQSaucg2Ys2Q"
      },
      "outputs": [],
      "source": [
        "import pandas as pd\n",
        "import numpy as np"
      ]
    },
    {
      "cell_type": "markdown",
      "metadata": {
        "id": "TAuePRVEYs2Q"
      },
      "source": [
        "**30.** Consider a DataFrame containing rows and columns of purely numerical data. Create a list of the row-column index locations of the 3 largest values."
      ]
    },
    {
      "cell_type": "code",
      "execution_count": null,
      "metadata": {
        "collapsed": true,
        "id": "XZ5gm0cTYs2Q"
      },
      "outputs": [],
      "source": [
        "import pandas as pd\n",
        "import numpy as np"
      ]
    },
    {
      "cell_type": "markdown",
      "metadata": {
        "id": "ITM8XArzYs2Q"
      },
      "source": [
        "**31.** Given a DataFrame with a column of group IDs, 'grps', and a column of corresponding integer values, 'vals', replace any negative values in 'vals' with the group mean."
      ]
    },
    {
      "cell_type": "code",
      "execution_count": null,
      "metadata": {
        "collapsed": true,
        "id": "gMtgL2SuYs2Q"
      },
      "outputs": [],
      "source": [
        "import pandas as pd\n",
        "import numpy as np"
      ]
    },
    {
      "cell_type": "markdown",
      "metadata": {
        "id": "0SWVRo6SYs2Q"
      },
      "source": [
        "**32.** Implement a rolling mean over groups with window size 3, which ignores NaN value. For example consider the following DataFrame:\n",
        "\n",
        "```python\n",
        ">>> df = pd.DataFrame({'group': list('aabbabbbabab'),\n",
        "                       'value': [1, 2, 3, np.nan, 2, 3, \n",
        "                                 np.nan, 1, 7, 3, np.nan, 8]})\n",
        ">>> df\n",
        "   group  value\n",
        "0      a    1.0\n",
        "1      a    2.0\n",
        "2      b    3.0\n",
        "3      b    NaN\n",
        "4      a    2.0\n",
        "5      b    3.0\n",
        "6      b    NaN\n",
        "7      b    1.0\n",
        "8      a    7.0\n",
        "9      b    3.0\n",
        "10     a    NaN\n",
        "11     b    8.0\n",
        "```\n",
        "The goal is to compute the Series:\n",
        "\n",
        "```\n",
        "0     1.000000\n",
        "1     1.500000\n",
        "2     3.000000\n",
        "3     3.000000\n",
        "4     1.666667\n",
        "5     3.000000\n",
        "6     3.000000\n",
        "7     2.000000\n",
        "8     3.666667\n",
        "9     2.000000\n",
        "10    4.500000\n",
        "11    4.000000\n",
        "```\n",
        "E.g. the first window of size three for group 'b' has values 3.0, NaN and 3.0 and occurs at row index 5. Instead of being NaN the value in the new column at this row index should be 3.0 (just the two non-NaN values are used to compute the mean (3+3)/2)"
      ]
    },
    {
      "cell_type": "code",
      "execution_count": null,
      "metadata": {
        "collapsed": true,
        "id": "Io59EoJiYs2Q"
      },
      "outputs": [],
      "source": [
        "\n",
        "import pandas as pd"
      ]
    },
    {
      "cell_type": "markdown",
      "metadata": {
        "id": "9bLgR-6-Ys2Q"
      },
      "source": [
        "## Series and DatetimeIndex\n",
        "\n",
        "### Exercises for creating and manipulating Series with datetime data\n",
        "\n",
        "Difficulty: *easy/medium*\n",
        "\n",
        "pandas is fantastic for working with dates and times. These puzzles explore some of this functionality.\n"
      ]
    },
    {
      "cell_type": "markdown",
      "metadata": {
        "id": "bU5-5wXFYs2Q"
      },
      "source": [
        "**33.** Create a DatetimeIndex that contains each business day of 2015 and use it to index a Series of random numbers. Let's call this Series `s`."
      ]
    },
    {
      "cell_type": "code",
      "execution_count": null,
      "metadata": {
        "collapsed": true,
        "id": "R7WGul9vYs2Q"
      },
      "outputs": [],
      "source": [
        "\n",
        "import pandas as pd"
      ]
    },
    {
      "cell_type": "markdown",
      "metadata": {
        "id": "l3Dr4vCsYs2Q"
      },
      "source": [
        "**34.** Find the sum of the values in `s` for every Wednesday."
      ]
    },
    {
      "cell_type": "code",
      "execution_count": null,
      "metadata": {
        "collapsed": true,
        "id": "R1yafVGuYs2R"
      },
      "outputs": [],
      "source": [
        "import pandas as pd\n"
      ]
    },
    {
      "cell_type": "markdown",
      "metadata": {
        "id": "n2bv3lTIYs2R"
      },
      "source": [
        "**35.** For each calendar month in `s`, find the mean of values."
      ]
    },
    {
      "cell_type": "code",
      "execution_count": null,
      "metadata": {
        "collapsed": true,
        "id": "XHX4crGnYs2R"
      },
      "outputs": [],
      "source": [
        "import pandas as pd\n"
      ]
    },
    {
      "cell_type": "markdown",
      "metadata": {
        "id": "JP7XV_0YYs2R"
      },
      "source": [
        "**36.** For each group of four consecutive calendar months in `s`, find the date on which the highest value occurred."
      ]
    },
    {
      "cell_type": "code",
      "execution_count": null,
      "metadata": {
        "collapsed": true,
        "id": "toFMWSZDYs2R"
      },
      "outputs": [],
      "source": [
        "import pandas as pd"
      ]
    },
    {
      "cell_type": "markdown",
      "metadata": {
        "id": "ywGaTvHTYs2R"
      },
      "source": [
        "**37.** Create a DateTimeIndex consisting of the third Thursday in each month for the years 2015 and 2016."
      ]
    },
    {
      "cell_type": "code",
      "execution_count": null,
      "metadata": {
        "collapsed": true,
        "id": "chSL7FieYs2R"
      },
      "outputs": [],
      "source": [
        "import pandas as pd"
      ]
    },
    {
      "cell_type": "markdown",
      "metadata": {
        "id": "MMbqQIjcYs2R"
      },
      "source": [
        "## Cleaning Data\n",
        "\n",
        "### Making a DataFrame easier to work with\n",
        "\n",
        "Difficulty: *easy/medium*\n",
        "\n",
        "It happens all the time: someone gives you data containing malformed strings, Python, lists and missing data. How do you tidy it up so you can get on with the analysis?\n",
        "\n",
        "Take this monstrosity as the DataFrame to use in the following puzzles:\n",
        "\n",
        "```python\n",
        "df = pd.DataFrame({'From_To': ['LoNDon_paris', 'MAdrid_miLAN', 'londON_StockhOlm', \n",
        "                               'Budapest_PaRis', 'Brussels_londOn'],\n",
        "              'FlightNumber': [10045, np.nan, 10065, np.nan, 10085],\n",
        "              'RecentDelays': [[23, 47], [], [24, 43, 87], [13], [67, 32]],\n",
        "                   'Airline': ['KLM(!)', '<Air France> (12)', '(British Airways. )', \n",
        "                               '12. Air France', '\"Swiss Air\"']})\n",
        "```\n",
        "(It's some flight data I made up; it's not meant to be accurate in any way.)\n"
      ]
    },
    {
      "cell_type": "markdown",
      "metadata": {
        "id": "Is3rTG4uYs2R"
      },
      "source": [
        "**38.** Some values in the the FlightNumber column are missing. These numbers are meant to increase by 10 with each row so 10055 and 10075 need to be put in place. Fill in these missing numbers and make the column an integer column (instead of a float column)."
      ]
    },
    {
      "cell_type": "code",
      "execution_count": null,
      "metadata": {
        "collapsed": true,
        "id": "PbpQijzWYs2S"
      },
      "outputs": [],
      "source": [
        "import pandas as pd"
      ]
    },
    {
      "cell_type": "markdown",
      "metadata": {
        "id": "IYGiyoYQYs2S"
      },
      "source": [
        "**39.** The From\\_To column would be better as two separate columns! Split each string on the underscore delimiter `_` to give a new temporary DataFrame with the correct values. Assign the correct column names to this temporary DataFrame. "
      ]
    },
    {
      "cell_type": "code",
      "execution_count": null,
      "metadata": {
        "collapsed": true,
        "id": "pwDl9TdFYs2S"
      },
      "outputs": [],
      "source": [
        "import pandas as pd"
      ]
    },
    {
      "cell_type": "markdown",
      "metadata": {
        "id": "Xk6XngFVYs2S"
      },
      "source": [
        "**40.** Notice how the capitalisation of the city names is all mixed up in this temporary DataFrame. Standardise the strings so that only the first letter is uppercase (e.g. \"londON\" should become \"London\".)"
      ]
    },
    {
      "cell_type": "code",
      "execution_count": null,
      "metadata": {
        "collapsed": true,
        "id": "0zgzFK7EYs2S"
      },
      "outputs": [],
      "source": [
        "import pandas as pd"
      ]
    },
    {
      "cell_type": "markdown",
      "metadata": {
        "id": "3vM2OrcEYs2T"
      },
      "source": [
        "**41.** Delete the From_To column from `df` and attach the temporary DataFrame from the previous questions."
      ]
    },
    {
      "cell_type": "code",
      "execution_count": null,
      "metadata": {
        "collapsed": true,
        "id": "Yi9FlPILYs2T"
      },
      "outputs": [],
      "source": [
        "import pandas as pd"
      ]
    },
    {
      "cell_type": "markdown",
      "metadata": {
        "id": "cXPfsCZyYs2T"
      },
      "source": [
        "**42**. In the Airline column, you can see some extra puctuation and symbols have appeared around the airline names. Pull out just the airline name. E.g. `'(British Airways. )'` should become `'British Airways'`."
      ]
    },
    {
      "cell_type": "code",
      "execution_count": null,
      "metadata": {
        "collapsed": true,
        "id": "kfnvpC3MYs2T"
      },
      "outputs": [],
      "source": [
        "import pandas as pd"
      ]
    },
    {
      "cell_type": "markdown",
      "metadata": {
        "id": "w5eDnn37Ys2T"
      },
      "source": [
        "**43**. In the RecentDelays column, the values have been entered into the DataFrame as a list. We would like each first value in its own column, each second value in its own column, and so on. If there isn't an Nth value, the value should be NaN.\n",
        "\n",
        "Expand the Series of lists into a DataFrame named `delays`, rename the columns `delay_1`, `delay_2`, etc. and replace the unwanted RecentDelays column in `df` with `delays`."
      ]
    },
    {
      "cell_type": "code",
      "execution_count": null,
      "metadata": {
        "collapsed": true,
        "id": "OW-s8CYoYs2T"
      },
      "outputs": [],
      "source": [
        "import pandas as pd"
      ]
    },
    {
      "cell_type": "markdown",
      "metadata": {
        "id": "cNlUPJ3DYs2T"
      },
      "source": [
        "The DataFrame should look much better now."
      ]
    },
    {
      "cell_type": "markdown",
      "metadata": {
        "collapsed": true,
        "id": "wZqGlyWiYs2T"
      },
      "source": [
        "## Using MultiIndexes\n",
        "\n",
        "### Go beyond flat DataFrames with additional index levels\n",
        "\n",
        "Difficulty: *medium*\n",
        "\n",
        "Previous exercises have seen us analysing data from DataFrames equipped with a single index level. However, pandas also gives you the possibilty of indexing your data using *multiple* levels. This is very much like adding new dimensions to a Series or a DataFrame. For example, a Series is 1D, but by using a MultiIndex with 2 levels we gain of much the same functionality as a 2D DataFrame.\n",
        "\n",
        "The set of puzzles below explores how you might use multiple index levels to enhance data analysis.\n",
        "\n",
        "To warm up, we'll look make a Series with two index levels. "
      ]
    },
    {
      "cell_type": "markdown",
      "metadata": {
        "id": "iLZxQlcVYs2T"
      },
      "source": [
        "**44**. Given the lists `letters = ['A', 'B', 'C']` and `numbers = list(range(10))`, construct a MultiIndex object from the product of the two lists. Use it to index a Series of random numbers. Call this Series `s`."
      ]
    },
    {
      "cell_type": "code",
      "execution_count": null,
      "metadata": {
        "collapsed": true,
        "id": "UKxJRnYEYs2T"
      },
      "outputs": [],
      "source": [
        "import pandas as pd"
      ]
    },
    {
      "cell_type": "markdown",
      "metadata": {
        "id": "CVy6B_tMYs2T"
      },
      "source": [
        "**45.** Check the index of `s` is lexicographically sorted (this is a necessary proprty for indexing to work correctly with a MultiIndex)."
      ]
    },
    {
      "cell_type": "code",
      "execution_count": null,
      "metadata": {
        "collapsed": true,
        "id": "2YZBaBzqYs2T"
      },
      "outputs": [],
      "source": [
        "import pandas as pd"
      ]
    },
    {
      "cell_type": "markdown",
      "metadata": {
        "id": "l9zVfwB7Ys2T"
      },
      "source": [
        "**46**. Select the labels `1`, `3` and `6` from the second level of the MultiIndexed Series."
      ]
    },
    {
      "cell_type": "code",
      "execution_count": null,
      "metadata": {
        "collapsed": true,
        "id": "-OOcQyDNYs2T"
      },
      "outputs": [],
      "source": [
        "import pandas as pd"
      ]
    },
    {
      "cell_type": "markdown",
      "metadata": {
        "id": "I6LGYcrUYs2T"
      },
      "source": [
        "**47**. Slice the Series `s`; slice up to label 'B' for the first level and from label 5 onwards for the second level."
      ]
    },
    {
      "cell_type": "code",
      "execution_count": null,
      "metadata": {
        "collapsed": true,
        "id": "tD_-tO50Ys2U"
      },
      "outputs": [],
      "source": [
        "import pandas as pd"
      ]
    },
    {
      "cell_type": "markdown",
      "metadata": {
        "id": "Ph7uOAD8Ys2U"
      },
      "source": [
        "**48**. Sum the values in `s` for each label in the first level (you should have Series giving you a total for labels A, B and C)."
      ]
    },
    {
      "cell_type": "code",
      "execution_count": null,
      "metadata": {
        "collapsed": true,
        "id": "hxaDPTmTYs2U"
      },
      "outputs": [],
      "source": [
        "import pandas as pd"
      ]
    },
    {
      "cell_type": "markdown",
      "metadata": {
        "id": "Lfnxgt9uYs2U"
      },
      "source": [
        "**49**. Suppose that `sum()` (and other methods) did not accept a `level` keyword argument. How else could you perform the equivalent of `s.sum(level=1)`?"
      ]
    },
    {
      "cell_type": "code",
      "execution_count": null,
      "metadata": {
        "collapsed": true,
        "id": "N_hfz9ZeYs2U"
      },
      "outputs": [],
      "source": [
        "import pandas as pd"
      ]
    },
    {
      "cell_type": "markdown",
      "metadata": {
        "id": "I58bSDg4Ys2U"
      },
      "source": [
        "**50**. Exchange the levels of the MultiIndex so we have an index of the form (letters, numbers). Is this new Series properly lexsorted? If not, sort it."
      ]
    },
    {
      "cell_type": "markdown",
      "metadata": {
        "id": "GhlsH3KxYs2U"
      },
      "source": [
        "## Minesweeper\n",
        "\n",
        "### Generate the numbers for safe squares in a Minesweeper grid\n",
        "\n",
        "Difficulty: *medium* to *hard*\n",
        "\n",
        "If you've ever used an older version of Windows, there's a good chance you've played with [Minesweeper](https://en.wikipedia.org/wiki/Minesweeper_(video_game). If you're not familiar with the game, imagine a grid of squares: some of these squares conceal a mine. If you click on a mine, you lose instantly. If you click on a safe square, you reveal a number telling you how many mines are found in the squares that are immediately adjacent. The aim of the game is to uncover all squares in the grid that do not contain a mine.\n",
        "\n",
        "In this section, we'll make a DataFrame that contains the necessary data for a game of Minesweeper: coordinates of the squares, whether the square contains a mine and the number of mines found on adjacent squares."
      ]
    },
    {
      "cell_type": "markdown",
      "metadata": {
        "id": "jOTY2gMVYs2U"
      },
      "source": [
        "**51**. Let's suppose we're playing Minesweeper on a 5 by 4 grid, i.e.\n",
        "```\n",
        "X = 5\n",
        "Y = 4\n",
        "```\n",
        "To begin, generate a DataFrame `df` with two columns, `'x'` and `'y'` containing every coordinate for this grid. That is, the DataFrame should start:\n",
        "```\n",
        "   x  y\n",
        "0  0  0\n",
        "1  0  1\n",
        "2  0  2\n",
        "```"
      ]
    },
    {
      "cell_type": "code",
      "execution_count": null,
      "metadata": {
        "collapsed": true,
        "id": "mudORm8IYs2U"
      },
      "outputs": [],
      "source": [
        "import pandas as pd"
      ]
    },
    {
      "cell_type": "markdown",
      "metadata": {
        "id": "8ZrHlJzTYs2U"
      },
      "source": [
        "**52**. For this DataFrame `df`, create a new column of zeros (safe) and ones (mine). The probability of a mine occuring at each location should be 0.4."
      ]
    },
    {
      "cell_type": "code",
      "execution_count": null,
      "metadata": {
        "collapsed": true,
        "id": "qp6UTwuSYs2U"
      },
      "outputs": [],
      "source": [
        "import pandas as pd"
      ]
    },
    {
      "cell_type": "markdown",
      "metadata": {
        "id": "Si1zmLV4Ys2U"
      },
      "source": [
        "**53**. Now create a new column for this DataFrame called `'adjacent'`. This column should contain the number of mines found on adjacent squares in the grid. \n",
        "\n",
        "(E.g. for the first row, which is the entry for the coordinate `(0, 0)`, count how many mines are found on the coordinates `(0, 1)`, `(1, 0)` and `(1, 1)`.)"
      ]
    },
    {
      "cell_type": "code",
      "execution_count": null,
      "metadata": {
        "collapsed": true,
        "id": "3os0PBwsYs2U"
      },
      "outputs": [],
      "source": [
        "import pandas as pd"
      ]
    },
    {
      "cell_type": "markdown",
      "metadata": {
        "id": "89luNLTRYs2U"
      },
      "source": [
        "**54**. For rows of the DataFrame that contain a mine, set the value in the `'adjacent'` column to NaN."
      ]
    },
    {
      "cell_type": "code",
      "execution_count": null,
      "metadata": {
        "collapsed": true,
        "id": "7TpLLC4wYs2V"
      },
      "outputs": [],
      "source": [
        "import pandas as pd"
      ]
    },
    {
      "cell_type": "markdown",
      "metadata": {
        "id": "H6JTwefcYs2V"
      },
      "source": [
        "**55**. Finally, convert the DataFrame to grid of the adjacent mine counts: columns are the `x` coordinate, rows are the `y` coordinate."
      ]
    },
    {
      "cell_type": "code",
      "execution_count": null,
      "metadata": {
        "collapsed": true,
        "id": "Zn6KRrvLYs2V"
      },
      "outputs": [],
      "source": []
    },
    {
      "cell_type": "markdown",
      "metadata": {
        "id": "pJUakoKdYs2V"
      },
      "source": [
        "## Plotting\n",
        "\n",
        "### Visualize trends and patterns in data\n",
        "\n",
        "Difficulty: *medium*\n",
        "\n",
        "To really get a good understanding of the data contained in your DataFrame, it is often essential to create plots: if you're lucky, trends and anomalies will jump right out at you. This functionality is baked into pandas and the puzzles below explore some of what's possible with the library.\n",
        "\n",
        "**56.** Pandas is highly integrated with the plotting library matplotlib, and makes plotting DataFrames very user-friendly! Plotting in a notebook environment usually makes use of the following boilerplate:\n",
        "\n",
        "```python\n",
        "import matplotlib.pyplot as plt\n",
        "%matplotlib inline\n",
        "plt.style.use('ggplot')\n",
        "```\n",
        "\n",
        "matplotlib is the plotting library which pandas' plotting functionality is built upon, and it is usually aliased to ```plt```.\n",
        "\n",
        "```%matplotlib inline``` tells the notebook to show plots inline, instead of creating them in a separate window.  \n",
        "\n",
        "```plt.style.use('ggplot')``` is a style theme that most people find agreeable, based upon the styling of R's ggplot package.\n",
        "\n",
        "For starters, make a scatter plot of this random data, but use black X's instead of the default markers. \n",
        "\n",
        "```df = pd.DataFrame({\"xs\":[1,5,2,8,1], \"ys\":[4,2,1,9,6]})```\n",
        "\n",
        "Consult the [documentation](https://pandas.pydata.org/pandas-docs/stable/generated/pandas.DataFrame.plot.html) if you get stuck!"
      ]
    },
    {
      "cell_type": "code",
      "execution_count": null,
      "metadata": {
        "collapsed": true,
        "id": "llzSTbgqYs2V"
      },
      "outputs": [],
      "source": []
    },
    {
      "cell_type": "markdown",
      "metadata": {
        "id": "OVFFQAWsYs2V"
      },
      "source": [
        "**57.** Columns in your DataFrame can also be used to modify colors and sizes.  Bill has been keeping track of his performance at work over time, as well as how good he was feeling that day, and whether he had a cup of coffee in the morning.  Make a plot which incorporates all four features of this DataFrame.\n",
        "\n",
        "(Hint:  If you're having trouble seeing the plot, try multiplying the Series which you choose to represent size by 10 or more)\n",
        "\n",
        "*The chart doesn't have to be pretty: this isn't a course in data viz!*\n",
        "\n",
        "```\n",
        "df = pd.DataFrame({\"productivity\":[5,2,3,1,4,5,6,7,8,3,4,8,9],\n",
        "                   \"hours_in\"    :[1,9,6,5,3,9,2,9,1,7,4,2,2],\n",
        "                   \"happiness\"   :[2,1,3,2,3,1,2,3,1,2,2,1,3],\n",
        "                   \"caffienated\" :[0,0,1,1,0,0,0,0,1,1,0,1,0]})\n",
        "```"
      ]
    },
    {
      "cell_type": "code",
      "execution_count": null,
      "metadata": {
        "collapsed": true,
        "id": "EF3j41VzYs2V"
      },
      "outputs": [],
      "source": [
        "import pandas as pd"
      ]
    },
    {
      "cell_type": "markdown",
      "metadata": {
        "id": "ppI5nGFqYs2V"
      },
      "source": [
        "**58.**  What if we want to plot multiple things?  Pandas allows you to pass in a matplotlib *Axis* object for plots, and plots will also return an Axis object.\n",
        "\n",
        "Make a bar plot of monthly revenue with a line plot of monthly advertising spending (numbers in millions)\n",
        "\n",
        "```\n",
        "df = pd.DataFrame({\"revenue\":[57,68,63,71,72,90,80,62,59,51,47,52],\n",
        "                   \"advertising\":[2.1,1.9,2.7,3.0,3.6,3.2,2.7,2.4,1.8,1.6,1.3,1.9],\n",
        "                   \"month\":range(12)\n",
        "                  })\n",
        "```"
      ]
    },
    {
      "cell_type": "code",
      "execution_count": null,
      "metadata": {
        "collapsed": true,
        "id": "_mXaiG3lYs2V"
      },
      "outputs": [],
      "source": []
    },
    {
      "cell_type": "markdown",
      "metadata": {
        "id": "KpWZkeO7Ys2V"
      },
      "source": [
        "Now we're finally ready to create a candlestick chart, which is a very common tool used to analyze stock price data.  A candlestick chart shows the opening, closing, highest, and lowest price for a stock during a time window.  The color of the \"candle\" (the thick part of the bar) is green if the stock closed above its opening price, or red if below.\n",
        "\n",
        "![Candlestick Example](https://github.com/ShivaMandava123/Shiva-Task-3/blob/main/img/candle.jpg?raw=1)\n",
        "\n",
        "This was initially designed to be a pandas plotting challenge, but it just so happens that this type of plot is just not feasible using pandas' methods.  If you are unfamiliar with matplotlib, we have provided a function that will plot the chart for you so long as you can use pandas to get the data into the correct format.\n",
        "\n",
        "Your first step should be to get the data in the correct format using pandas' time-series grouping function.  We would like each candle to represent an hour's worth of data.  You can write your own aggregation function which returns the open/high/low/close, but pandas has a built-in which also does this."
      ]
    },
    {
      "cell_type": "markdown",
      "metadata": {
        "id": "QU0BY5WTYs2W"
      },
      "source": [
        "The below cell contains helper functions.  Call ```day_stock_data()``` to generate a DataFrame containing the prices a hypothetical stock sold for, and the time the sale occurred.  Call ```plot_candlestick(df)``` on your properly aggregated and formatted stock data to print the candlestick chart."
      ]
    },
    {
      "cell_type": "code",
      "execution_count": null,
      "metadata": {
        "collapsed": true,
        "id": "vguEmz_IYs2W"
      },
      "outputs": [],
      "source": [
        "import numpy as np\n",
        "def float_to_time(x):\n",
        "    return str(int(x)) + \":\" + str(int(x%1 * 60)).zfill(2) + \":\" + str(int(x*60 % 1 * 60)).zfill(2)\n",
        "\n",
        "def day_stock_data():\n",
        "    #NYSE is open from 9:30 to 4:00\n",
        "    time = 9.5\n",
        "    price = 100\n",
        "    results = [(float_to_time(time), price)]\n",
        "    while time < 16:\n",
        "        elapsed = np.random.exponential(.001)\n",
        "        time += elapsed\n",
        "        if time > 16:\n",
        "            break\n",
        "        price_diff = np.random.uniform(.999, 1.001)\n",
        "        price *= price_diff\n",
        "        results.append((float_to_time(time), price))\n",
        "    \n",
        "    \n",
        "    df = pd.DataFrame(results, columns = ['time','price'])\n",
        "    df.time = pd.to_datetime(df.time)\n",
        "    return df\n",
        "\n",
        "#Don't read me unless you get stuck!\n",
        "def plot_candlestick(agg):\n",
        "    \"\"\"\n",
        "    agg is a DataFrame which has a DatetimeIndex and five columns: [\"open\",\"high\",\"low\",\"close\",\"color\"]\n",
        "    \"\"\"\n",
        "    fig, ax = plt.subplots()\n",
        "    for time in agg.index:\n",
        "        ax.plot([time.hour] * 2, agg.loc[time, [\"high\",\"low\"]].values, color = \"black\")\n",
        "        ax.plot([time.hour] * 2, agg.loc[time, [\"open\",\"close\"]].values, color = agg.loc[time, \"color\"], linewidth = 10)\n",
        "\n",
        "    ax.set_xlim((8,16))\n",
        "    ax.set_ylabel(\"Price\")\n",
        "    ax.set_xlabel(\"Hour\")\n",
        "    ax.set_title(\"OHLC of Stock Value During Trading Day\")\n",
        "    plt.show()"
      ]
    },
    {
      "cell_type": "markdown",
      "metadata": {
        "id": "r6mpgGYcYs2W"
      },
      "source": [
        "**59.** Generate a day's worth of random stock data, and aggregate / reformat it so that it has hourly summaries of the opening, highest, lowest, and closing prices"
      ]
    },
    {
      "cell_type": "code",
      "execution_count": null,
      "metadata": {
        "collapsed": true,
        "id": "uUt-eB2tYs2W"
      },
      "outputs": [],
      "source": [
        "import pandas as pd"
      ]
    },
    {
      "cell_type": "markdown",
      "metadata": {
        "id": "a5XEH6nvYs2W"
      },
      "source": [
        "**60.** Now that you have your properly-formatted data, try to plot it yourself as a candlestick chart.  Use the ```plot_candlestick(df)``` function above, or matplotlib's [```plot``` documentation](https://matplotlib.org/api/_as_gen/matplotlib.axes.Axes.plot.html) if you get stuck."
      ]
    },
    {
      "cell_type": "code",
      "execution_count": null,
      "metadata": {
        "collapsed": true,
        "id": "aYq9n74XYs2X"
      },
      "outputs": [],
      "source": [
        "import pandas as pd"
      ]
    },
    {
      "cell_type": "markdown",
      "metadata": {
        "id": "okLgp95MYs2X"
      },
      "source": []
    }
  ],
  "metadata": {
    "kernelspec": {
      "display_name": "Python 3",
      "language": "python",
      "name": "python3"
    },
    "language_info": {
      "codemirror_mode": {
        "name": "ipython",
        "version": 3
      },
      "file_extension": ".py",
      "mimetype": "text/x-python",
      "name": "python",
      "nbconvert_exporter": "python",
      "pygments_lexer": "ipython3",
      "version": "3.8.3"
    },
    "colab": {
      "provenance": [],
      "include_colab_link": true
    }
  },
  "nbformat": 4,
  "nbformat_minor": 0
}